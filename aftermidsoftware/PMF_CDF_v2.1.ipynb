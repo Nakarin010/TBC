{
 "cells": [
  {
   "cell_type": "markdown",
   "id": "e6e09983",
   "metadata": {},
   "source": [
    "# Probability Distribution"
   ]
  },
  {
   "cell_type": "markdown",
   "id": "3d2ac0f4",
   "metadata": {},
   "source": [
    "The object of this week is that student can create PMF and CDF from given list of data in two ways.\n",
    "\n",
    "* A probability mass function (PMF), which represents a set of values and the number of times each one appears in a dataset.\n",
    "\n",
    "* A cumulative distribution function (CDF), which contains the same information as a PMF in a form that makes it easier to visualize, make comparisons, and perform some computations.\n",
    "\n",
    "For the distribution case study, we will use data from the General Social Survey (GSS) to create at distributions of __age__ and __income__. Finally we will explore the __relationship between income and education__."
   ]
  },
  {
   "cell_type": "markdown",
   "id": "0b9c6a76",
   "metadata": {},
   "source": [
    "- We will use __Pandas for data import and data analysis__ directly without help of utility function from the book thinkstat2, except download function.\n",
    "\n",
    "That is to unify tools for data analysis after explored tools."
   ]
  },
  {
   "cell_type": "markdown",
   "id": "59151b89-0b6a-4219-9961-cf6649edf296",
   "metadata": {},
   "source": [
    "# Histrograme"
   ]
  },
  {
   "cell_type": "markdown",
   "id": "c1bd3fb1-e4e2-4ee0-a225-23538e3640be",
   "metadata": {},
   "source": [
    "__Distribution__ show values that appear in the sample or the frequency of each, frequece table.\n",
    "\n",
    "The __purpose of a histogram__ is to __graphically summarize the distribution__ of a __univariate data__ set.\n",
    "\n",
    "The histogram graphically shows the following:\n",
    "\n",
    "* center (i.e., the location) of the data;\n",
    "* spread (i.e., the scale) of the data;\n",
    "* skewness of the data;\n",
    "* presence of outliers; and\n",
    "* presence of multiple modes in the data.\n",
    "\n"
   ]
  },
  {
   "cell_type": "markdown",
   "id": "d1ecf5b9",
   "metadata": {},
   "source": [
    "- We will use __Pandas for data import and data analysis__ directly without help of utility function."
   ]
  },
  {
   "cell_type": "markdown",
   "id": "111c4c73-91d6-4523-b504-750161e85fb3",
   "metadata": {},
   "source": [
    "Example of Histogram to determine Speed of Light:\n",
    "The list of 100 records of measured data studying speed of light.\n"
   ]
  },
  {
   "cell_type": "code",
   "execution_count": 4,
   "id": "815875f3-8cc1-4ef3-8ccc-f1b97fc253fa",
   "metadata": {},
   "outputs": [],
   "source": [
    "try:\n",
    "    from pandas import DataFrame\n",
    "except ImportError:\n",
    "    !pip install pandas"
   ]
  },
  {
   "cell_type": "code",
   "execution_count": 5,
   "id": "6bf9e977-8569-4474-8572-1a91a80068c4",
   "metadata": {},
   "outputs": [
    {
     "data": {
      "text/plain": [
       "100"
      ]
     },
     "execution_count": 5,
     "metadata": {},
     "output_type": "execute_result"
    }
   ],
   "source": [
    "import pandas as pd\n",
    "light_speed = [299.85,299.74,299.90,300.07,299.93,299.85,299.95,299.98,299.98,299.88,300.00,\\\n",
    "299.98,299.93,299.65,299.76,299.81,300.00,300.00,299.96,299.96,299.96,299.94,299.96,299.94,\\\n",
    "299.88,299.80,299.85,299.88,299.90,299.84,299.83,299.79,299.81,299.88,299.88,299.83,299.80,\\\n",
    "299.79,299.76,299.80,299.88,299.88,299.88,299.86,299.72,299.72,299.62,299.86,299.97,299.95,\\\n",
    "299.88,299.91,299.85,299.87,299.84,299.84,299.85,299.84,299.84,299.84,299.89,299.81,299.81,\\\n",
    "299.82,299.80,299.77,299.76,299.74,299.75,299.76,299.91,299.92,299.89,299.86,299.88,299.72,\\\n",
    "299.84,299.85,299.85,299.78,299.89,299.84,299.78,299.81,299.76,299.81,299.79,299.81,299.82,\\\n",
    "299.85,299.87,299.87,299.81,299.74,299.81,299.94,299.95,299.80,299.81,299.87\n",
    "]\n",
    "len(light_speed)\n"
   ]
  },
  {
   "cell_type": "code",
   "execution_count": 6,
   "id": "9072134f",
   "metadata": {},
   "outputs": [
    {
     "data": {
      "text/plain": [
       "300000000.0"
      ]
     },
     "execution_count": 6,
     "metadata": {},
     "output_type": "execute_result"
    }
   ],
   "source": [
    "#speed of light \n",
    "3e+8"
   ]
  },
  {
   "cell_type": "code",
   "execution_count": 7,
   "id": "d2d7b739",
   "metadata": {},
   "outputs": [
    {
     "data": {
      "image/png": "[encoded data removed]",
      "text/plain": [
       "<Figure size 640x480 with 1 Axes>"
      ]
     },
     "metadata": {},
     "output_type": "display_data"
    }
   ],
   "source": [
    "df = pd.DataFrame(data=light_speed)\n",
    "ax = df.plot.hist()"
   ]
  },
  {
   "cell_type": "code",
   "execution_count": 8,
   "id": "4727f6ee",
   "metadata": {},
   "outputs": [
    {
     "data": {
      "text/html": [
       "<div>\n",
       "<style scoped>\n",
       "    .dataframe tbody tr th:only-of-type {\n",
       "        vertical-align: middle;\n",
       "    }\n",
       "\n",
       "    .dataframe tbody tr th {\n",
       "        vertical-align: top;\n",
       "    }\n",
       "\n",
       "    .dataframe thead th {\n",
       "        text-align: right;\n",
       "    }\n",
       "</style>\n",
       "<table border=\"1\" class=\"dataframe\">\n",
       "  <thead>\n",
       "    <tr style=\"text-align: right;\">\n",
       "      <th></th>\n",
       "      <th>0</th>\n",
       "    </tr>\n",
       "  </thead>\n",
       "  <tbody>\n",
       "    <tr>\n",
       "      <th>0</th>\n",
       "      <td>299.85</td>\n",
       "    </tr>\n",
       "    <tr>\n",
       "      <th>1</th>\n",
       "      <td>299.74</td>\n",
       "    </tr>\n",
       "    <tr>\n",
       "      <th>2</th>\n",
       "      <td>299.90</td>\n",
       "    </tr>\n",
       "    <tr>\n",
       "      <th>3</th>\n",
       "      <td>300.07</td>\n",
       "    </tr>\n",
       "    <tr>\n",
       "      <th>4</th>\n",
       "      <td>299.93</td>\n",
       "    </tr>\n",
       "  </tbody>\n",
       "</table>\n",
       "</div>"
      ],
      "text/plain": [
       "        0\n",
       "0  299.85\n",
       "1  299.74\n",
       "2  299.90\n",
       "3  300.07\n",
       "4  299.93"
      ]
     },
     "execution_count": 8,
     "metadata": {},
     "output_type": "execute_result"
    }
   ],
   "source": [
    "df.head()"
   ]
  },
  {
   "cell_type": "code",
   "execution_count": 9,
   "id": "299b08f2",
   "metadata": {},
   "outputs": [
    {
     "data": {
      "text/html": [
       "<div>\n",
       "<style scoped>\n",
       "    .dataframe tbody tr th:only-of-type {\n",
       "        vertical-align: middle;\n",
       "    }\n",
       "\n",
       "    .dataframe tbody tr th {\n",
       "        vertical-align: top;\n",
       "    }\n",
       "\n",
       "    .dataframe thead th {\n",
       "        text-align: right;\n",
       "    }\n",
       "</style>\n",
       "<table border=\"1\" class=\"dataframe\">\n",
       "  <thead>\n",
       "    <tr style=\"text-align: right;\">\n",
       "      <th></th>\n",
       "      <th>0</th>\n",
       "    </tr>\n",
       "  </thead>\n",
       "  <tbody>\n",
       "    <tr>\n",
       "      <th>0</th>\n",
       "      <td>299.85</td>\n",
       "    </tr>\n",
       "    <tr>\n",
       "      <th>1</th>\n",
       "      <td>299.74</td>\n",
       "    </tr>\n",
       "    <tr>\n",
       "      <th>2</th>\n",
       "      <td>299.90</td>\n",
       "    </tr>\n",
       "    <tr>\n",
       "      <th>3</th>\n",
       "      <td>300.07</td>\n",
       "    </tr>\n",
       "    <tr>\n",
       "      <th>4</th>\n",
       "      <td>299.93</td>\n",
       "    </tr>\n",
       "    <tr>\n",
       "      <th>5</th>\n",
       "      <td>299.85</td>\n",
       "    </tr>\n",
       "    <tr>\n",
       "      <th>6</th>\n",
       "      <td>299.95</td>\n",
       "    </tr>\n",
       "    <tr>\n",
       "      <th>7</th>\n",
       "      <td>299.98</td>\n",
       "    </tr>\n",
       "    <tr>\n",
       "      <th>8</th>\n",
       "      <td>299.98</td>\n",
       "    </tr>\n",
       "    <tr>\n",
       "      <th>9</th>\n",
       "      <td>299.88</td>\n",
       "    </tr>\n",
       "    <tr>\n",
       "      <th>10</th>\n",
       "      <td>300.00</td>\n",
       "    </tr>\n",
       "    <tr>\n",
       "      <th>11</th>\n",
       "      <td>299.98</td>\n",
       "    </tr>\n",
       "    <tr>\n",
       "      <th>12</th>\n",
       "      <td>299.93</td>\n",
       "    </tr>\n",
       "    <tr>\n",
       "      <th>13</th>\n",
       "      <td>299.65</td>\n",
       "    </tr>\n",
       "    <tr>\n",
       "      <th>14</th>\n",
       "      <td>299.76</td>\n",
       "    </tr>\n",
       "    <tr>\n",
       "      <th>15</th>\n",
       "      <td>299.81</td>\n",
       "    </tr>\n",
       "    <tr>\n",
       "      <th>16</th>\n",
       "      <td>300.00</td>\n",
       "    </tr>\n",
       "    <tr>\n",
       "      <th>17</th>\n",
       "      <td>300.00</td>\n",
       "    </tr>\n",
       "    <tr>\n",
       "      <th>18</th>\n",
       "      <td>299.96</td>\n",
       "    </tr>\n",
       "    <tr>\n",
       "      <th>19</th>\n",
       "      <td>299.96</td>\n",
       "    </tr>\n",
       "    <tr>\n",
       "      <th>20</th>\n",
       "      <td>299.96</td>\n",
       "    </tr>\n",
       "    <tr>\n",
       "      <th>21</th>\n",
       "      <td>299.94</td>\n",
       "    </tr>\n",
       "    <tr>\n",
       "      <th>22</th>\n",
       "      <td>299.96</td>\n",
       "    </tr>\n",
       "    <tr>\n",
       "      <th>23</th>\n",
       "      <td>299.94</td>\n",
       "    </tr>\n",
       "    <tr>\n",
       "      <th>24</th>\n",
       "      <td>299.88</td>\n",
       "    </tr>\n",
       "    <tr>\n",
       "      <th>25</th>\n",
       "      <td>299.80</td>\n",
       "    </tr>\n",
       "    <tr>\n",
       "      <th>26</th>\n",
       "      <td>299.85</td>\n",
       "    </tr>\n",
       "    <tr>\n",
       "      <th>27</th>\n",
       "      <td>299.88</td>\n",
       "    </tr>\n",
       "    <tr>\n",
       "      <th>28</th>\n",
       "      <td>299.90</td>\n",
       "    </tr>\n",
       "    <tr>\n",
       "      <th>29</th>\n",
       "      <td>299.84</td>\n",
       "    </tr>\n",
       "    <tr>\n",
       "      <th>30</th>\n",
       "      <td>299.83</td>\n",
       "    </tr>\n",
       "    <tr>\n",
       "      <th>31</th>\n",
       "      <td>299.79</td>\n",
       "    </tr>\n",
       "    <tr>\n",
       "      <th>32</th>\n",
       "      <td>299.81</td>\n",
       "    </tr>\n",
       "    <tr>\n",
       "      <th>33</th>\n",
       "      <td>299.88</td>\n",
       "    </tr>\n",
       "    <tr>\n",
       "      <th>34</th>\n",
       "      <td>299.88</td>\n",
       "    </tr>\n",
       "    <tr>\n",
       "      <th>35</th>\n",
       "      <td>299.83</td>\n",
       "    </tr>\n",
       "    <tr>\n",
       "      <th>36</th>\n",
       "      <td>299.80</td>\n",
       "    </tr>\n",
       "    <tr>\n",
       "      <th>37</th>\n",
       "      <td>299.79</td>\n",
       "    </tr>\n",
       "    <tr>\n",
       "      <th>38</th>\n",
       "      <td>299.76</td>\n",
       "    </tr>\n",
       "    <tr>\n",
       "      <th>39</th>\n",
       "      <td>299.80</td>\n",
       "    </tr>\n",
       "    <tr>\n",
       "      <th>40</th>\n",
       "      <td>299.88</td>\n",
       "    </tr>\n",
       "    <tr>\n",
       "      <th>41</th>\n",
       "      <td>299.88</td>\n",
       "    </tr>\n",
       "    <tr>\n",
       "      <th>42</th>\n",
       "      <td>299.88</td>\n",
       "    </tr>\n",
       "    <tr>\n",
       "      <th>43</th>\n",
       "      <td>299.86</td>\n",
       "    </tr>\n",
       "    <tr>\n",
       "      <th>44</th>\n",
       "      <td>299.72</td>\n",
       "    </tr>\n",
       "    <tr>\n",
       "      <th>45</th>\n",
       "      <td>299.72</td>\n",
       "    </tr>\n",
       "    <tr>\n",
       "      <th>46</th>\n",
       "      <td>299.62</td>\n",
       "    </tr>\n",
       "    <tr>\n",
       "      <th>47</th>\n",
       "      <td>299.86</td>\n",
       "    </tr>\n",
       "    <tr>\n",
       "      <th>48</th>\n",
       "      <td>299.97</td>\n",
       "    </tr>\n",
       "    <tr>\n",
       "      <th>49</th>\n",
       "      <td>299.95</td>\n",
       "    </tr>\n",
       "  </tbody>\n",
       "</table>\n",
       "</div>"
      ],
      "text/plain": [
       "         0\n",
       "0   299.85\n",
       "1   299.74\n",
       "2   299.90\n",
       "3   300.07\n",
       "4   299.93\n",
       "5   299.85\n",
       "6   299.95\n",
       "7   299.98\n",
       "8   299.98\n",
       "9   299.88\n",
       "10  300.00\n",
       "11  299.98\n",
       "12  299.93\n",
       "13  299.65\n",
       "14  299.76\n",
       "15  299.81\n",
       "16  300.00\n",
       "17  300.00\n",
       "18  299.96\n",
       "19  299.96\n",
       "20  299.96\n",
       "21  299.94\n",
       "22  299.96\n",
       "23  299.94\n",
       "24  299.88\n",
       "25  299.80\n",
       "26  299.85\n",
       "27  299.88\n",
       "28  299.90\n",
       "29  299.84\n",
       "30  299.83\n",
       "31  299.79\n",
       "32  299.81\n",
       "33  299.88\n",
       "34  299.88\n",
       "35  299.83\n",
       "36  299.80\n",
       "37  299.79\n",
       "38  299.76\n",
       "39  299.80\n",
       "40  299.88\n",
       "41  299.88\n",
       "42  299.88\n",
       "43  299.86\n",
       "44  299.72\n",
       "45  299.72\n",
       "46  299.62\n",
       "47  299.86\n",
       "48  299.97\n",
       "49  299.95"
      ]
     },
     "execution_count": 9,
     "metadata": {},
     "output_type": "execute_result"
    }
   ],
   "source": [
    "#50 values\n",
    "df.head(50)"
   ]
  },
  {
   "cell_type": "code",
   "execution_count": 10,
   "id": "bc6f3231",
   "metadata": {},
   "outputs": [
    {
     "data": {
      "text/plain": [
       "0    299.8524\n",
       "dtype: float64"
      ]
     },
     "execution_count": 10,
     "metadata": {},
     "output_type": "execute_result"
    }
   ],
   "source": [
    "df.mean() #the mean of the data \n"
   ]
  },
  {
   "cell_type": "markdown",
   "id": "235ce490-9fd1-4e8d-b292-6c384ee9f666",
   "metadata": {},
   "source": [
    "The above plot is a histogram of the Michelson speed of light data set.[https://www.itl.nist.gov/div898/handbook/datasets/MICHELSO.DAT]\n"
   ]
  },
  {
   "cell_type": "markdown",
   "id": "aee51de2-7b29-48c2-8d01-4b801ff21b5f",
   "metadata": {},
   "source": [
    "## Generalize Frequency to Probability of Discrete variable"
   ]
  },
  {
   "cell_type": "markdown",
   "id": "65950123",
   "metadata": {},
   "source": [
    "Instead mapping values to frequency, __probability mass function__ maps from each value to its __probability__. \n",
    "\n",
    "* __A probability__ is frequency expressed as a __fraction of the sample size, n__.\n",
    "* To get map from frequency to probabilities, we divide through by __n__, which is called __normalization__\n",
    "\n"
   ]
  },
  {
   "cell_type": "markdown",
   "id": "da642c27",
   "metadata": {},
   "source": [
    "For example, if will throw the dice 23 times, the outcome could be report as frequency table :- \n",
    "\n",
    "| Dice face | Frequency |\n",
    "| --- | --- |\n",
    "| 1 | 5 |\n",
    "| 2 | 3 |\n",
    "| 3 | 4 |\n",
    "| 4 | 4 |\n",
    "| 5 | 2 |\n",
    "| 6 | 5 |\n",
    "\n",
    "\n",
    "above is just frequency "
   ]
  },
  {
   "cell_type": "markdown",
   "id": "623d1cc6",
   "metadata": {},
   "source": [
    "###  Histrogram of data set"
   ]
  },
  {
   "cell_type": "code",
   "execution_count": 11,
   "id": "96939647",
   "metadata": {},
   "outputs": [
    {
     "data": {
      "text/plain": [
       "<Axes: xlabel='DiceRolls'>"
      ]
     },
     "execution_count": 11,
     "metadata": {},
     "output_type": "execute_result"
    },
    {
     "data": {
      "image/png": "[encoded data removed]",
      "text/plain": [
       "<Figure size 640x480 with 1 Axes>"
      ]
     },
     "metadata": {},
     "output_type": "display_data"
    }
   ],
   "source": [
    "from pandas import DataFrame\n",
    "dice = [ 1,1,1,1,1, 2,2,2, 3,3,3,3, 4,4,4,4, 5,5, 6,6,6,6,6] # assume we random generate dice faces.\n",
    "df = DataFrame(dice, columns=['DiceRolls'])\n",
    "\n",
    "# Show histrogram\n",
    "\n",
    "hist = df.value_counts().sort_index() #sort the outcome\n",
    "hist.plot(kind='bar')"
   ]
  },
  {
   "cell_type": "code",
   "execution_count": 22,
   "id": "e5266156",
   "metadata": {},
   "outputs": [
    {
     "name": "stdout",
     "output_type": "stream",
     "text": [
      "DiceRolls\n",
      "1            5\n",
      "2            3\n",
      "3            4\n",
      "4            4\n",
      "5            2\n",
      "6            5\n",
      "Name: count, dtype: int64\n",
      "\n",
      "\n",
      "DiceRolls\n",
      "1            0.833333\n",
      "2            0.500000\n",
      "3            0.666667\n",
      "4            0.666667\n",
      "5            0.333333\n",
      "6            0.833333\n",
      "Name: count, dtype: float64\n"
     ]
    }
   ],
   "source": [
    "frequency = df.value_counts().sort_index()\n",
    "print(frequency)\n",
    "\n",
    "print('\\n')\n",
    "PMF = frequency/len(dice)\n",
    "print(PMF)"
   ]
  },
  {
   "cell_type": "markdown",
   "id": "a53ba1ae",
   "metadata": {},
   "source": [
    "### Probability Distribution of Data \n",
    "To get map from frequency to probabilities, we divide through by n, which is called normalization"
   ]
  },
  {
   "cell_type": "code",
   "execution_count": 24,
   "id": "60bd0bf2",
   "metadata": {},
   "outputs": [
    {
     "data": {
      "text/plain": [
       "<Axes: xlabel='DiceRolls'>"
      ]
     },
     "execution_count": 24,
     "metadata": {},
     "output_type": "execute_result"
    },
    {
     "data": {
      "image/png": "[encoded data removed]",
      "text/plain": [
       "<Figure size 640x480 with 1 Axes>"
      ]
     },
     "metadata": {},
     "output_type": "display_data"
    }
   ],
   "source": [
    "from pandas import DataFrame\n",
    "#pandas have function plot count sort so many useful function that we don't have to create a new one\n",
    "dice = [ 1,1,1,1,1, 2,2,2, 3,3,3,3, 4,4,4,4, 5,5, 6,6,6,6,6]\n",
    "df = DataFrame(dice, columns=['DiceRolls'])\n",
    "\n",
    "# by normalize we transfer frequency of occurence to Probability\n",
    "\n",
    "pmf = df.value_counts().sort_index() / len(df)\n",
    "pmf.plot(kind='bar')"
   ]
  },
  {
   "cell_type": "markdown",
   "id": "47c5b953",
   "metadata": {},
   "source": [
    "* __Pmf and Hist objects__ are similar in many ways; in fact, they inherit many of their methods from a common parent class. \n",
    "\n",
    "* For example, the methods Values and Items work the same way for both. The __biggest difference__ is that a __Hist maps from values to integer counters__; a __Pmf maps from values to floating-point probabilities__.\n",
    "\n"
   ]
  },
  {
   "cell_type": "markdown",
   "id": "f40f2f0b",
   "metadata": {},
   "source": [
    "# Distributions\n",
    "\n",
    "A __distribution is a set of values and their corresponding probabilities__.  For example, if you roll a six-sided die, there are six possible outcomes, the numbers `1` through `6`, and they all have the same probability, `1/6`.\n",
    "\n",
    "We can represent this distribution of outcomes with a table, like follow:\n",
    "\n",
    "\n",
    "| Value   |      Probability |\n",
    "| -----   | -----    |\n",
    "| 1       |      1/6 |\n",
    "| 2       |      1/6 |\n",
    "| 3       |      1/6 |\n",
    "| 4       |      1/6 |\n",
    "| 5       |      1/6 |\n",
    "| 6       |      1/6 |\n",
    "\n",
    "More generally, there can be any number of values, the values can be any type, and the probabilities do not have to be equal in which shown on previous examples."
   ]
  },
  {
   "cell_type": "markdown",
   "id": "15a8f662",
   "metadata": {},
   "source": [
    "## Empirical Distribution\n",
    "\n",
    "To represent distributions in Python, we will use a library called __empiricaldist__, for \"empirical distribution\", which __means it is based on data rather than a mathematical formula__.\n",
    "\n",
    "We can check wheather empiricaldist is installed and installs it if necessary."
   ]
  },
  {
   "cell_type": "code",
   "execution_count": 14,
   "id": "bbaa8b9c",
   "metadata": {},
   "outputs": [],
   "source": [
    "try:\n",
    "    import empiricaldist\n",
    "except ImportError:\n",
    "    !pip install empiricaldist"
   ]
  },
  {
   "cell_type": "markdown",
   "id": "f8d893a1",
   "metadata": {},
   "source": [
    "To work with PMF, Probability Mass Function contains a set of possible outcomes and their probabilities, we can __empiricaldist__ which provides an object __Pmf__. \n",
    "\n",
    "For dice Pmf, it represents the outcome of rolling a six-sided die."
   ]
  },
  {
   "cell_type": "code",
   "execution_count": 25,
   "id": "e088fac7",
   "metadata": {},
   "outputs": [],
   "source": [
    "from empiricaldist import Pmf\n",
    "\n",
    "outcomes = [1,2,3,4,5,6]\n",
    "dice = Pmf(1/6, outcomes)"
   ]
  },
  {
   "cell_type": "markdown",
   "id": "712ad2dc",
   "metadata": {},
   "source": [
    "Where\n",
    "- The first argument is __the probability of each outcome__, $\\frac{1}{6}$\n",
    "- The second argument is __the list of outcomes__."
   ]
  },
  {
   "cell_type": "code",
   "execution_count": 26,
   "id": "b62e5da3",
   "metadata": {},
   "outputs": [
    {
     "name": "stdout",
     "output_type": "stream",
     "text": [
      "1    0.166667\n",
      "2    0.166667\n",
      "3    0.166667\n",
      "4    0.166667\n",
      "5    0.166667\n",
      "6    0.166667\n",
      "Name: , dtype: float64\n"
     ]
    },
    {
     "data": {
      "text/plain": [
       "<Axes: >"
      ]
     },
     "execution_count": 26,
     "metadata": {},
     "output_type": "execute_result"
    },
    {
     "data": {
      "image/png": "[encoded data removed]",
      "text/plain": [
       "<Figure size 640x480 with 1 Axes>"
      ]
     },
     "metadata": {},
     "output_type": "display_data"
    }
   ],
   "source": [
    "print(dice)\n",
    "dice.plot(kind='bar') #1/6\n",
    "\n",
    "#uniform prob "
   ]
  },
  {
   "cell_type": "markdown",
   "id": "9da89dd0",
   "metadata": {},
   "source": [
    "A __Pmf__ object is a specialized version of a __Pandas Series__, so it provides all of the attributes and methods of a Series."
   ]
  },
  {
   "cell_type": "code",
   "execution_count": 17,
   "id": "5566fdfe",
   "metadata": {},
   "outputs": [
    {
     "data": {
      "text/plain": [
       "3.5"
      ]
     },
     "execution_count": 17,
     "metadata": {},
     "output_type": "execute_result"
    }
   ],
   "source": [
    "dice.mean()"
   ]
  },
  {
   "cell_type": "markdown",
   "id": "d4005d1a",
   "metadata": {},
   "source": [
    "## The General Social Survey\n",
    "The examples in this week are based on a new dataset, the General Social Survey (GSS). The __GSS__ has run annually since 1972; it __surveys a representative sample of adult residents of the U.S. and asks questions about demographics, personal history, and beliefs about social and political issues__.\n",
    "\n",
    "It is widely used by politicians, policy makers, and researchers. The GSS dataset contains hundreds of columns; using an online tool call GSS Explorer[https://gssdataexplorer.norc.org/]. This week we selected just a few and created a data extract.\n",
    "\n",
    "Like the NSFG data we used in the previous week, the __GSS data is stored in a fixed-width__ format, described by a __Stata data dictionary__."
   ]
  },
  {
   "cell_type": "markdown",
   "id": "bceccd09",
   "metadata": {},
   "source": [
    "### Download Dataset"
   ]
  },
  {
   "cell_type": "code",
   "execution_count": 29,
   "id": "e4c0053c",
   "metadata": {},
   "outputs": [],
   "source": [
    "# define files for downloading\n",
    "\n",
    "dict_file = 'GSS.dct'\n",
    "data_file = 'GSS.dat.gz'"
   ]
  },
  {
   "cell_type": "code",
   "execution_count": 30,
   "id": "928b032c",
   "metadata": {},
   "outputs": [],
   "source": [
    "# To download those two files\n",
    "\n",
    "from os.path import basename, exists\n",
    "\n",
    "def download(url):\n",
    "    filename = basename(url)\n",
    "    if not exists(filename):\n",
    "        from urllib.request import urlretrieve\n",
    "        local, _ = urlretrieve(url, filename)\n",
    "        print('Downloaded ' + local)"
   ]
  },
  {
   "cell_type": "code",
   "execution_count": 31,
   "id": "08d19eb1",
   "metadata": {},
   "outputs": [
    {
     "name": "stdout",
     "output_type": "stream",
     "text": [
      "Downloaded GSS.dct\n"
     ]
    }
   ],
   "source": [
    "download('https://github.com/AllenDowney/' +\n",
    "         'ElementsOfDataScience/raw/master/data/' +\n",
    "         dict_file)"
   ]
  },
  {
   "cell_type": "code",
   "execution_count": 32,
   "id": "09b3d9be",
   "metadata": {},
   "outputs": [
    {
     "name": "stdout",
     "output_type": "stream",
     "text": [
      "Downloaded GSS.dat.gz\n"
     ]
    }
   ],
   "source": [
    "download('https://github.com/AllenDowney/' +\n",
    "         'ElementsOfDataScience/raw/master/data/' +\n",
    "         data_file)"
   ]
  },
  {
   "cell_type": "markdown",
   "id": "2ac5a082",
   "metadata": {},
   "source": [
    "### Read the data dictionary: Importing"
   ]
  },
  {
   "cell_type": "markdown",
   "id": "41564f1f",
   "metadata": {},
   "source": [
    "* We will use the statadict library to read the data dictionary.\n",
    "* If you are already install the library, then skip installation."
   ]
  },
  {
   "cell_type": "code",
   "execution_count": 33,
   "id": "fae64017",
   "metadata": {},
   "outputs": [],
   "source": [
    "try:\n",
    "    from statadict import parse_stata_dict\n",
    "except ImportError:\n",
    "    !pip install statadict"
   ]
  },
  {
   "cell_type": "markdown",
   "id": "70d29386",
   "metadata": {},
   "source": [
    "### Read data dictionary"
   ]
  },
  {
   "cell_type": "code",
   "execution_count": 34,
   "id": "5c0531a3",
   "metadata": {},
   "outputs": [],
   "source": [
    "from statadict import parse_stata_dict\n",
    "\n",
    "stata_dict = parse_stata_dict(dict_file)"
   ]
  },
  {
   "cell_type": "markdown",
   "id": "0c3bd183",
   "metadata": {},
   "source": [
    "The data file is compressed, .gz file, so we can __use the gzip library to open it__."
   ]
  },
  {
   "cell_type": "code",
   "execution_count": 35,
   "id": "cb71b000",
   "metadata": {},
   "outputs": [],
   "source": [
    "import gzip\n",
    "\n",
    "fp = gzip.open(data_file)"
   ]
  },
  {
   "cell_type": "markdown",
   "id": "e19faed8",
   "metadata": {},
   "source": [
    "### Create DataFrame"
   ]
  },
  {
   "cell_type": "markdown",
   "id": "0c1c3ace",
   "metadata": {},
   "source": [
    "The result is an __object that behaves like a file__, so we can pass it as an argument to read_fwf:"
   ]
  },
  {
   "cell_type": "code",
   "execution_count": 36,
   "id": "aceb8f66",
   "metadata": {},
   "outputs": [
    {
     "data": {
      "text/plain": [
       "(64814, 8)"
      ]
     },
     "execution_count": 36,
     "metadata": {},
     "output_type": "execute_result"
    }
   ],
   "source": [
    "import pandas as pd\n",
    "\n",
    "gss = pd.read_fwf(fp, \n",
    "                names=stata_dict.names, \n",
    "                colspecs=stata_dict.colspecs)\n",
    "gss.shape"
   ]
  },
  {
   "cell_type": "code",
   "execution_count": 40,
   "id": "bcf838eb",
   "metadata": {},
   "outputs": [
    {
     "data": {
      "text/plain": [
       "Index(['YEAR', 'ID_', 'AGE', 'EDUC', 'SEX', 'GUNLAW', 'GRASS', 'REALINC'], dtype='object')"
      ]
     },
     "execution_count": 40,
     "metadata": {},
     "output_type": "execute_result"
    }
   ],
   "source": [
    "gss.columns"
   ]
  },
  {
   "cell_type": "markdown",
   "id": "33a87e34",
   "metadata": {},
   "source": [
    "The result is a __DataFrame with one row for each respondent__, and __one column for each variable__. Here are the first few rows."
   ]
  },
  {
   "cell_type": "code",
   "execution_count": 37,
   "id": "2fae7174",
   "metadata": {},
   "outputs": [
    {
     "name": "stdout",
     "output_type": "stream",
     "text": [
      "   YEAR  ID_  AGE  EDUC  SEX  GUNLAW  GRASS  REALINC\n",
      "0  1972    1   23    16    2       1      0  18951.0\n",
      "1  1972    2   70    10    1       1      0  24366.0\n",
      "2  1972    3   48    12    2       1      0  24366.0\n",
      "3  1972    4   27    17    2       1      0  30458.0\n",
      "4  1972    5   61    12    2       1      0  50763.0\n",
      "5  1972    6   26    14    1       2      0  43994.0\n",
      "6  1972    7   28    13    1       1      0  37226.0\n",
      "7  1972    8   27    16    1       1      0  13537.0\n",
      "8  1972    9   21    12    2       1      0   2707.0\n",
      "9  1972   10   30    12    2       1      0  18951.0\n"
     ]
    }
   ],
   "source": [
    "print(gss.head(10))"
   ]
  },
  {
   "cell_type": "code",
   "execution_count": 41,
   "id": "96cb6685",
   "metadata": {},
   "outputs": [
    {
     "data": {
      "text/html": [
       "<div>\n",
       "<style scoped>\n",
       "    .dataframe tbody tr th:only-of-type {\n",
       "        vertical-align: middle;\n",
       "    }\n",
       "\n",
       "    .dataframe tbody tr th {\n",
       "        vertical-align: top;\n",
       "    }\n",
       "\n",
       "    .dataframe thead th {\n",
       "        text-align: right;\n",
       "    }\n",
       "</style>\n",
       "<table border=\"1\" class=\"dataframe\">\n",
       "  <thead>\n",
       "    <tr style=\"text-align: right;\">\n",
       "      <th></th>\n",
       "      <th>YEAR</th>\n",
       "      <th>ID_</th>\n",
       "      <th>AGE</th>\n",
       "      <th>EDUC</th>\n",
       "      <th>SEX</th>\n",
       "      <th>GUNLAW</th>\n",
       "      <th>GRASS</th>\n",
       "      <th>REALINC</th>\n",
       "    </tr>\n",
       "  </thead>\n",
       "  <tbody>\n",
       "    <tr>\n",
       "      <th>0</th>\n",
       "      <td>1972</td>\n",
       "      <td>1</td>\n",
       "      <td>23</td>\n",
       "      <td>16</td>\n",
       "      <td>2</td>\n",
       "      <td>1</td>\n",
       "      <td>0</td>\n",
       "      <td>18951.0</td>\n",
       "    </tr>\n",
       "  </tbody>\n",
       "</table>\n",
       "</div>"
      ],
      "text/plain": [
       "   YEAR  ID_  AGE  EDUC  SEX  GUNLAW  GRASS  REALINC\n",
       "0  1972    1   23    16    2       1      0  18951.0"
      ]
     },
     "execution_count": 41,
     "metadata": {},
     "output_type": "execute_result"
    }
   ],
   "source": [
    "\n",
    "gss.head(1)"
   ]
  },
  {
   "cell_type": "markdown",
   "id": "e55c63ad",
   "metadata": {},
   "source": [
    "Like before, we can study more detail about the dataset. We can look at codebook at https://gssdataexplorer.norc.org/projects/52787/variables/vfilter"
   ]
  },
  {
   "cell_type": "markdown",
   "id": "247e182e",
   "metadata": {},
   "source": [
    "\n",
    "## Distribution of Education\n",
    "\n",
    "To get started with this dataset, let's look at the distribution of __EDUC__, which __records the number of years of education for each respondent__.\n",
    "\n",
    "First we'll __select a column from the DataFrame__ and __use value_counts__ to see what values are in it."
   ]
  },
  {
   "cell_type": "code",
   "execution_count": 46,
   "id": "6fd13fae",
   "metadata": {},
   "outputs": [
    {
     "data": {
      "text/plain": [
       "EDUC\n",
       "12    19663\n",
       "16     8355\n",
       "14     7160\n",
       "13     5360\n",
       "11     3743\n",
       "15     2910\n",
       "10     2880\n",
       "8      2724\n",
       "18     2384\n",
       "9      2083\n",
       "17     1967\n",
       "20     1439\n",
       "19      920\n",
       "7       879\n",
       "6       828\n",
       "5       402\n",
       "4       319\n",
       "3       257\n",
       "0       165\n",
       "2       152\n",
       "99      104\n",
       "98       73\n",
       "1        47\n",
       "Name: count, dtype: int64"
      ]
     },
     "execution_count": 46,
     "metadata": {},
     "output_type": "execute_result"
    }
   ],
   "source": [
    "gss['EDUC'].value_counts()"
   ]
  },
  {
   "cell_type": "code",
   "execution_count": 48,
   "id": "49c7fb51",
   "metadata": {},
   "outputs": [],
   "source": [
    "#to show specific columns\n",
    "gss['EDUC'] = gss.EDUC"
   ]
  },
  {
   "cell_type": "markdown",
   "id": "76707bb1",
   "metadata": {},
   "source": [
    "Also sort them."
   ]
  },
  {
   "cell_type": "code",
   "execution_count": 50,
   "id": "8f4d6064",
   "metadata": {},
   "outputs": [
    {
     "data": {
      "text/plain": [
       "EDUC\n",
       "0       165\n",
       "1        47\n",
       "2       152\n",
       "3       257\n",
       "4       319\n",
       "5       402\n",
       "6       828\n",
       "7       879\n",
       "8      2724\n",
       "9      2083\n",
       "10     2880\n",
       "11     3743\n",
       "12    19663\n",
       "13     5360\n",
       "14     7160\n",
       "15     2910\n",
       "16     8355\n",
       "17     1967\n",
       "18     2384\n",
       "19      920\n",
       "20     1439\n",
       "98       73\n",
       "99      104\n",
       "Name: count, dtype: int64"
      ]
     },
     "execution_count": 50,
     "metadata": {},
     "output_type": "execute_result"
    }
   ],
   "source": [
    "gss['EDUC'].value_counts().sort_index() #\n",
    "\n",
    "\n",
    "\n",
    "#sort index key will be sorted"
   ]
  },
  {
   "cell_type": "markdown",
   "id": "83b80e23",
   "metadata": {},
   "source": [
    "\n",
    "The result from __value_counts is a set of possible values and the number of times each one appears__, so it is a kind of distribution. \n",
    "\n",
    "Trendency of data is 12 years, __mode=12__."
   ]
  },
  {
   "cell_type": "markdown",
   "id": "efefcb78",
   "metadata": {},
   "source": [
    "### Cleaning data\n",
    "\n",
    "The __values 98 and 99 are special codes__ for __\"Don't know\"__ and __\"No answer\"__. We'll use replace to replace these codes with NaN."
   ]
  },
  {
   "cell_type": "code",
   "execution_count": null,
   "id": "105209f8",
   "metadata": {},
   "outputs": [],
   "source": []
  },
  {
   "cell_type": "code",
   "execution_count": 53,
   "id": "b9be62f6",
   "metadata": {},
   "outputs": [],
   "source": [
    "import numpy as np\n",
    "\n",
    "educ = gss['EDUC'].replace([98, 99], np.nan) ## replace outliers with not a number"
   ]
  },
  {
   "cell_type": "code",
   "execution_count": 54,
   "id": "8764eefd",
   "metadata": {},
   "outputs": [
    {
     "data": {
      "text/plain": [
       "EDUC\n",
       "0.0       165\n",
       "1.0        47\n",
       "2.0       152\n",
       "3.0       257\n",
       "4.0       319\n",
       "5.0       402\n",
       "6.0       828\n",
       "7.0       879\n",
       "8.0      2724\n",
       "9.0      2083\n",
       "10.0     2880\n",
       "11.0     3743\n",
       "12.0    19663\n",
       "13.0     5360\n",
       "14.0     7160\n",
       "15.0     2910\n",
       "16.0     8355\n",
       "17.0     1967\n",
       "18.0     2384\n",
       "19.0      920\n",
       "20.0     1439\n",
       "Name: count, dtype: int64"
      ]
     },
     "execution_count": 54,
     "metadata": {},
     "output_type": "execute_result"
    }
   ],
   "source": [
    "educ.value_counts().sort_index()"
   ]
  },
  {
   "cell_type": "markdown",
   "id": "95792398",
   "metadata": {},
   "source": [
    "We've already seen __one way to visualize a distribution__, a __histogram__. Here's the histogram of education level."
   ]
  },
  {
   "cell_type": "code",
   "execution_count": 55,
   "id": "de5567a2",
   "metadata": {},
   "outputs": [
    {
     "data": {
      "image/png": "[encoded data removed]",
      "text/plain": [
       "<Figure size 640x480 with 1 Axes>"
      ]
     },
     "metadata": {},
     "output_type": "display_data"
    }
   ],
   "source": [
    "import matplotlib.pyplot as plt\n",
    "\n",
    "educ.hist(grid=False)\n",
    "plt.xlabel('Years of education')\n",
    "plt.ylabel('Number of respondents')\n",
    "plt.title('Histogram of education level');\n",
    "\n",
    "##there are problems with below histogram "
   ]
  },
  {
   "cell_type": "markdown",
   "id": "fb20e628",
   "metadata": {},
   "source": [
    "We can see the general shape of the distribution and the __central tendency__ \n",
    "\n",
    "* It looks like the peak is __near 12 years of education__.\n",
    "\n",
    "* But a histogram is not the best way to visualize this distribution.\n",
    "\n"
   ]
  },
  {
   "cell_type": "markdown",
   "id": "8baf799b",
   "metadata": {},
   "source": [
    "## Probability Mass Funciton\n",
    "\n",
    "For discrete variable, an alternative to histogram is a Pmf.\n",
    "\n",
    "Pmf provides a function called __from_seq__ that takes any kind of sequence -- like a list, tuple, or Pandas Series -- and computes the distribution of the values in the sequence."
   ]
  },
  {
   "cell_type": "code",
   "execution_count": 71,
   "id": "ce02da3f",
   "metadata": {},
   "outputs": [
    {
     "data": {
      "text/plain": [
       "empiricaldist.empiricaldist.Pmf"
      ]
     },
     "execution_count": 71,
     "metadata": {},
     "output_type": "execute_result"
    }
   ],
   "source": [
    "pmf_educ = Pmf.from_seq(educ, normalize=False) \n",
    "type(pmf_educ)"
   ]
  },
  {
   "cell_type": "markdown",
   "id": "3fdd0167",
   "metadata": {},
   "source": [
    "The keyword argument __normalize=False__ indicates that __we don't want to normalize this PMF__. We will explain what that means soon.\n",
    "\n",
    "Here's what the first few rows look like."
   ]
  },
  {
   "cell_type": "code",
   "execution_count": 70,
   "id": "93b36d61",
   "metadata": {},
   "outputs": [
    {
     "data": {
      "text/html": [
       "<div>\n",
       "<style scoped>\n",
       "    .dataframe tbody tr th:only-of-type {\n",
       "        vertical-align: middle;\n",
       "    }\n",
       "\n",
       "    .dataframe tbody tr th {\n",
       "        vertical-align: top;\n",
       "    }\n",
       "\n",
       "    .dataframe thead th {\n",
       "        text-align: right;\n",
       "    }\n",
       "</style>\n",
       "<table border=\"1\" class=\"dataframe\">\n",
       "  <thead>\n",
       "    <tr style=\"text-align: right;\">\n",
       "      <th></th>\n",
       "      <th>probs</th>\n",
       "    </tr>\n",
       "    <tr>\n",
       "      <th>EDUC</th>\n",
       "      <th></th>\n",
       "    </tr>\n",
       "  </thead>\n",
       "  <tbody>\n",
       "    <tr>\n",
       "      <th>0.0</th>\n",
       "      <td>165</td>\n",
       "    </tr>\n",
       "    <tr>\n",
       "      <th>1.0</th>\n",
       "      <td>47</td>\n",
       "    </tr>\n",
       "    <tr>\n",
       "      <th>2.0</th>\n",
       "      <td>152</td>\n",
       "    </tr>\n",
       "    <tr>\n",
       "      <th>3.0</th>\n",
       "      <td>257</td>\n",
       "    </tr>\n",
       "    <tr>\n",
       "      <th>4.0</th>\n",
       "      <td>319</td>\n",
       "    </tr>\n",
       "    <tr>\n",
       "      <th>5.0</th>\n",
       "      <td>402</td>\n",
       "    </tr>\n",
       "    <tr>\n",
       "      <th>6.0</th>\n",
       "      <td>828</td>\n",
       "    </tr>\n",
       "    <tr>\n",
       "      <th>7.0</th>\n",
       "      <td>879</td>\n",
       "    </tr>\n",
       "    <tr>\n",
       "      <th>8.0</th>\n",
       "      <td>2724</td>\n",
       "    </tr>\n",
       "    <tr>\n",
       "      <th>9.0</th>\n",
       "      <td>2083</td>\n",
       "    </tr>\n",
       "  </tbody>\n",
       "</table>\n",
       "</div>"
      ],
      "text/plain": [
       "EDUC\n",
       "0.0     165\n",
       "1.0      47\n",
       "2.0     152\n",
       "3.0     257\n",
       "4.0     319\n",
       "5.0     402\n",
       "6.0     828\n",
       "7.0     879\n",
       "8.0    2724\n",
       "9.0    2083\n",
       "Name: , dtype: int64"
      ]
     },
     "execution_count": 70,
     "metadata": {},
     "output_type": "execute_result"
    }
   ],
   "source": [
    "pmf_educ.head(10)\n",
    "\n",
    "##value and frequency "
   ]
  },
  {
   "cell_type": "markdown",
   "id": "f80d8c91",
   "metadata": {},
   "source": [
    "In this dataset, __there are 165 respondents who report that they have had no formal education__, and 47 who have only one year. \n",
    "\n",
    "Here the last few rows."
   ]
  },
  {
   "cell_type": "code",
   "execution_count": 64,
   "id": "ebf90bea",
   "metadata": {},
   "outputs": [
    {
     "data": {
      "text/html": [
       "<div>\n",
       "<style scoped>\n",
       "    .dataframe tbody tr th:only-of-type {\n",
       "        vertical-align: middle;\n",
       "    }\n",
       "\n",
       "    .dataframe tbody tr th {\n",
       "        vertical-align: top;\n",
       "    }\n",
       "\n",
       "    .dataframe thead th {\n",
       "        text-align: right;\n",
       "    }\n",
       "</style>\n",
       "<table border=\"1\" class=\"dataframe\">\n",
       "  <thead>\n",
       "    <tr style=\"text-align: right;\">\n",
       "      <th></th>\n",
       "      <th>probs</th>\n",
       "    </tr>\n",
       "    <tr>\n",
       "      <th>EDUC</th>\n",
       "      <th></th>\n",
       "    </tr>\n",
       "  </thead>\n",
       "  <tbody>\n",
       "    <tr>\n",
       "      <th>14.0</th>\n",
       "      <td>7160</td>\n",
       "    </tr>\n",
       "    <tr>\n",
       "      <th>15.0</th>\n",
       "      <td>2910</td>\n",
       "    </tr>\n",
       "    <tr>\n",
       "      <th>16.0</th>\n",
       "      <td>8355</td>\n",
       "    </tr>\n",
       "    <tr>\n",
       "      <th>17.0</th>\n",
       "      <td>1967</td>\n",
       "    </tr>\n",
       "    <tr>\n",
       "      <th>18.0</th>\n",
       "      <td>2384</td>\n",
       "    </tr>\n",
       "    <tr>\n",
       "      <th>19.0</th>\n",
       "      <td>920</td>\n",
       "    </tr>\n",
       "    <tr>\n",
       "      <th>20.0</th>\n",
       "      <td>1439</td>\n",
       "    </tr>\n",
       "  </tbody>\n",
       "</table>\n",
       "</div>"
      ],
      "text/plain": [
       "EDUC\n",
       "14.0    7160\n",
       "15.0    2910\n",
       "16.0    8355\n",
       "17.0    1967\n",
       "18.0    2384\n",
       "19.0     920\n",
       "20.0    1439\n",
       "Name: , dtype: int64"
      ]
     },
     "execution_count": 64,
     "metadata": {},
     "output_type": "execute_result"
    }
   ],
   "source": [
    "pmf_educ.tail(7) ##last data set"
   ]
  },
  {
   "cell_type": "markdown",
   "id": "824d847a",
   "metadata": {},
   "source": [
    "There are __1439 respondents who report that they have 20__ or more years of formal education, which probably means they attended college and graduate school.\n",
    "\n",
    "#### Bracket operator\n",
    "\n",
    "You can use the bracket operator to look up a value in a Pmf and get the corresponding count:"
   ]
  },
  {
   "cell_type": "code",
   "execution_count": 72,
   "id": "8fda40f9",
   "metadata": {},
   "outputs": [
    {
     "data": {
      "text/plain": [
       "1439"
      ]
     },
     "execution_count": 72,
     "metadata": {},
     "output_type": "execute_result"
    }
   ],
   "source": [
    "pmf_educ[20] #number of people who get 20 year of education"
   ]
  },
  {
   "cell_type": "code",
   "execution_count": 66,
   "id": "be9932f7",
   "metadata": {},
   "outputs": [
    {
     "data": {
      "text/plain": [
       "165"
      ]
     },
     "execution_count": 66,
     "metadata": {},
     "output_type": "execute_result"
    }
   ],
   "source": [
    "pmf_educ[0]"
   ]
  },
  {
   "cell_type": "code",
   "execution_count": 73,
   "id": "bdc596f5",
   "metadata": {},
   "outputs": [
    {
     "data": {
      "text/plain": [
       "19663"
      ]
     },
     "execution_count": 73,
     "metadata": {},
     "output_type": "execute_result"
    }
   ],
   "source": [
    "pmf_educ[12] "
   ]
  },
  {
   "cell_type": "code",
   "execution_count": 75,
   "id": "a4f10958",
   "metadata": {},
   "outputs": [
    {
     "data": {
      "text/plain": [
       "19663"
      ]
     },
     "execution_count": 75,
     "metadata": {},
     "output_type": "execute_result"
    }
   ],
   "source": [
    "mean_freq= pmf_educ[12]\n",
    "mean_freq"
   ]
  },
  {
   "cell_type": "markdown",
   "id": "32266c48",
   "metadata": {},
   "source": [
    "### Interprete PMF with normalization"
   ]
  },
  {
   "cell_type": "markdown",
   "id": "a46127ec",
   "metadata": {},
   "source": [
    "Usually when we make a PMF, __we want to know the fraction of respondents with each value, rather than the counts__. We can do that by setting __normalize=True; then we get a normalized PMF__, that is, a PMF where the values in the second column add up to 1."
   ]
  },
  {
   "cell_type": "code",
   "execution_count": 78,
   "id": "28fb07dc",
   "metadata": {},
   "outputs": [
    {
     "data": {
      "text/html": [
       "<div>\n",
       "<style scoped>\n",
       "    .dataframe tbody tr th:only-of-type {\n",
       "        vertical-align: middle;\n",
       "    }\n",
       "\n",
       "    .dataframe tbody tr th {\n",
       "        vertical-align: top;\n",
       "    }\n",
       "\n",
       "    .dataframe thead th {\n",
       "        text-align: right;\n",
       "    }\n",
       "</style>\n",
       "<table border=\"1\" class=\"dataframe\">\n",
       "  <thead>\n",
       "    <tr style=\"text-align: right;\">\n",
       "      <th></th>\n",
       "      <th>probs</th>\n",
       "    </tr>\n",
       "    <tr>\n",
       "      <th>EDUC</th>\n",
       "      <th></th>\n",
       "    </tr>\n",
       "  </thead>\n",
       "  <tbody>\n",
       "    <tr>\n",
       "      <th>0.0</th>\n",
       "      <td>0.002553</td>\n",
       "    </tr>\n",
       "    <tr>\n",
       "      <th>1.0</th>\n",
       "      <td>0.000727</td>\n",
       "    </tr>\n",
       "    <tr>\n",
       "      <th>2.0</th>\n",
       "      <td>0.002352</td>\n",
       "    </tr>\n",
       "    <tr>\n",
       "      <th>3.0</th>\n",
       "      <td>0.003976</td>\n",
       "    </tr>\n",
       "    <tr>\n",
       "      <th>4.0</th>\n",
       "      <td>0.004935</td>\n",
       "    </tr>\n",
       "    <tr>\n",
       "      <th>5.0</th>\n",
       "      <td>0.006219</td>\n",
       "    </tr>\n",
       "    <tr>\n",
       "      <th>6.0</th>\n",
       "      <td>0.012810</td>\n",
       "    </tr>\n",
       "    <tr>\n",
       "      <th>7.0</th>\n",
       "      <td>0.013599</td>\n",
       "    </tr>\n",
       "    <tr>\n",
       "      <th>8.0</th>\n",
       "      <td>0.042143</td>\n",
       "    </tr>\n",
       "    <tr>\n",
       "      <th>9.0</th>\n",
       "      <td>0.032226</td>\n",
       "    </tr>\n",
       "    <tr>\n",
       "      <th>10.0</th>\n",
       "      <td>0.044557</td>\n",
       "    </tr>\n",
       "    <tr>\n",
       "      <th>11.0</th>\n",
       "      <td>0.057908</td>\n",
       "    </tr>\n",
       "    <tr>\n",
       "      <th>12.0</th>\n",
       "      <td>0.304207</td>\n",
       "    </tr>\n",
       "    <tr>\n",
       "      <th>13.0</th>\n",
       "      <td>0.082925</td>\n",
       "    </tr>\n",
       "    <tr>\n",
       "      <th>14.0</th>\n",
       "      <td>0.110772</td>\n",
       "    </tr>\n",
       "    <tr>\n",
       "      <th>15.0</th>\n",
       "      <td>0.045021</td>\n",
       "    </tr>\n",
       "    <tr>\n",
       "      <th>16.0</th>\n",
       "      <td>0.129260</td>\n",
       "    </tr>\n",
       "    <tr>\n",
       "      <th>17.0</th>\n",
       "      <td>0.030431</td>\n",
       "    </tr>\n",
       "    <tr>\n",
       "      <th>18.0</th>\n",
       "      <td>0.036883</td>\n",
       "    </tr>\n",
       "    <tr>\n",
       "      <th>19.0</th>\n",
       "      <td>0.014233</td>\n",
       "    </tr>\n",
       "  </tbody>\n",
       "</table>\n",
       "</div>"
      ],
      "text/plain": [
       "EDUC\n",
       "0.0     0.002553\n",
       "1.0     0.000727\n",
       "2.0     0.002352\n",
       "3.0     0.003976\n",
       "4.0     0.004935\n",
       "5.0     0.006219\n",
       "6.0     0.012810\n",
       "7.0     0.013599\n",
       "8.0     0.042143\n",
       "9.0     0.032226\n",
       "10.0    0.044557\n",
       "11.0    0.057908\n",
       "12.0    0.304207\n",
       "13.0    0.082925\n",
       "14.0    0.110772\n",
       "15.0    0.045021\n",
       "16.0    0.129260\n",
       "17.0    0.030431\n",
       "18.0    0.036883\n",
       "19.0    0.014233\n",
       "Name: , dtype: float64"
      ]
     },
     "execution_count": 78,
     "metadata": {},
     "output_type": "execute_result"
    }
   ],
   "source": [
    "pmf_educ_norm = Pmf.from_seq(educ, normalize=True)\n",
    "pmf_educ_norm.head(20)\n",
    "\n",
    "#normalize to be percent"
   ]
  },
  {
   "cell_type": "markdown",
   "id": "0ccf0bc1",
   "metadata": {},
   "source": [
    "\n",
    "Now if we __use the bracket operator__, the __result is a fraction__. For example, __the fraction of people with 12 years of education is about 30%__:"
   ]
  },
  {
   "cell_type": "code",
   "execution_count": 83,
   "id": "78c09c29",
   "metadata": {},
   "outputs": [
    {
     "data": {
      "text/plain": [
       "0.30420656899299164"
      ]
     },
     "execution_count": 83,
     "metadata": {},
     "output_type": "execute_result"
    }
   ],
   "source": [
    "pmf_educ_norm[12] #percentage 30% from sample got high school education"
   ]
  },
  {
   "cell_type": "code",
   "execution_count": 84,
   "id": "d5f2350a",
   "metadata": {},
   "outputs": [
    {
     "data": {
      "text/plain": [
       "12.869687640206076"
      ]
     },
     "execution_count": 84,
     "metadata": {},
     "output_type": "execute_result"
    }
   ],
   "source": [
    "pmf_educ_norm.mean() #year "
   ]
  },
  {
   "cell_type": "markdown",
   "id": "e089a928",
   "metadata": {},
   "source": [
    "## Plot PMF\n",
    "\n",
    "Pmf provides a bar method that plots the values and their probabilities as a bar chart."
   ]
  },
  {
   "cell_type": "code",
   "execution_count": 85,
   "id": "4ebef28e",
   "metadata": {},
   "outputs": [
    {
     "data": {
      "image/png": "[encoded data removed]",
      "text/plain": [
       "<Figure size 640x480 with 1 Axes>"
      ]
     },
     "metadata": {},
     "output_type": "display_data"
    }
   ],
   "source": [
    "pmf_educ_norm.bar(label='EDUC')\n",
    "\n",
    "plt.xlabel('Years of education')\n",
    "plt.xticks(range(0, 21, 4))\n",
    "plt.ylabel('PMF')\n",
    "plt.title('Distribution of years of education')\n",
    "plt.legend();\n",
    "\n",
    "\n",
    "#20 is phd \n",
    "#16 is Bsc"
   ]
  },
  {
   "cell_type": "markdown",
   "id": "3fe6a008",
   "metadata": {},
   "source": [
    "\n",
    "In this figure, we can see that the __most common value__ is __12__ years, __but there are also peaks__ at __14__ and __16__, which **correspond to two and four years of college**."
   ]
  },
  {
   "cell_type": "markdown",
   "id": "b4e4dfa1",
   "metadata": {},
   "source": [
    "For this data, the PMF is probably a better choice than the histogram. \n",
    "\n",
    "* The __PMF shows all unique values__, \n",
    "* The histogram __puts values into bins__, it __obscures some details__. \n",
    "* With this dataset, and __the default number of bins__, __we couldn't see the peaks at 14 and 16 years__.\n",
    "\n",
    "However, PMF has limitations too,so that we will expolore in the future."
   ]
  },
  {
   "cell_type": "markdown",
   "id": "e4c487a4",
   "metadata": {},
   "source": [
    "## Cumulative Distribution Functions\n",
    "\n",
    "Now we'll see another way to represent a distribution, the cumulative distribution function (CDF).\n",
    "`empiricaldist` provides a `Cdf` object that represents a CDF.\n",
    "We can import it like this:"
   ]
  },
  {
   "cell_type": "code",
   "execution_count": 89,
   "id": "955e9458",
   "metadata": {},
   "outputs": [],
   "source": [
    "from empiricaldist import Cdf"
   ]
  },
  {
   "cell_type": "markdown",
   "id": "d796870d",
   "metadata": {},
   "source": [
    "As an example, suppose we have a sequence of five values:"
   ]
  },
  {
   "cell_type": "code",
   "execution_count": 93,
   "id": "257ab5bf",
   "metadata": {},
   "outputs": [
    {
     "name": "stdout",
     "output_type": "stream",
     "text": [
      "<class 'tuple'>\n"
     ]
    }
   ],
   "source": [
    "values = 1, 2, 2, 3, 5 \n",
    "print(type(values)) #tuple is constant list unmodify list "
   ]
  },
  {
   "cell_type": "markdown",
   "id": "2b95542a",
   "metadata": {},
   "source": [
    "Here's the Pmf of these values."
   ]
  },
  {
   "cell_type": "code",
   "execution_count": 94,
   "id": "671bdf52",
   "metadata": {},
   "outputs": [
    {
     "data": {
      "text/html": [
       "<div>\n",
       "<style scoped>\n",
       "    .dataframe tbody tr th:only-of-type {\n",
       "        vertical-align: middle;\n",
       "    }\n",
       "\n",
       "    .dataframe tbody tr th {\n",
       "        vertical-align: top;\n",
       "    }\n",
       "\n",
       "    .dataframe thead th {\n",
       "        text-align: right;\n",
       "    }\n",
       "</style>\n",
       "<table border=\"1\" class=\"dataframe\">\n",
       "  <thead>\n",
       "    <tr style=\"text-align: right;\">\n",
       "      <th></th>\n",
       "      <th>probs</th>\n",
       "    </tr>\n",
       "  </thead>\n",
       "  <tbody>\n",
       "    <tr>\n",
       "      <th>1</th>\n",
       "      <td>0.2</td>\n",
       "    </tr>\n",
       "    <tr>\n",
       "      <th>2</th>\n",
       "      <td>0.4</td>\n",
       "    </tr>\n",
       "    <tr>\n",
       "      <th>3</th>\n",
       "      <td>0.2</td>\n",
       "    </tr>\n",
       "    <tr>\n",
       "      <th>5</th>\n",
       "      <td>0.2</td>\n",
       "    </tr>\n",
       "  </tbody>\n",
       "</table>\n",
       "</div>"
      ],
      "text/plain": [
       "1    0.2\n",
       "2    0.4\n",
       "3    0.2\n",
       "5    0.2\n",
       "Name: , dtype: float64"
      ]
     },
     "execution_count": 94,
     "metadata": {},
     "output_type": "execute_result"
    }
   ],
   "source": [
    "Pmf.from_seq(values) #pmf function"
   ]
  },
  {
   "cell_type": "markdown",
   "id": "a33b88b1",
   "metadata": {},
   "source": [
    "If you draw a random value from values, the __PMF tells you the chance of getting x, for any value of x__.\n",
    "\n",
    "* So the probability of the value 1 is 1/5 or 0.2; \n",
    "\n",
    "* the probability of the value 2 is 2/5 or 0.4; \n",
    "\n",
    "* the probabilities for 3 and 5 are 1/5 each."
   ]
  },
  {
   "cell_type": "markdown",
   "id": "00c0a72c",
   "metadata": {},
   "source": [
    "A __CDF__ is similar in the sense that it contains values and their probabilities; __the difference__ is that the probabilities in the __CDF are the the cumulative sum of the probabilities in the PMF__.\n",
    "\n",
    "Here's the Cdf for the same five values."
   ]
  },
  {
   "cell_type": "code",
   "execution_count": 105,
   "id": "9f353d68",
   "metadata": {},
   "outputs": [
    {
     "data": {
      "text/html": [
       "<div>\n",
       "<style scoped>\n",
       "    .dataframe tbody tr th:only-of-type {\n",
       "        vertical-align: middle;\n",
       "    }\n",
       "\n",
       "    .dataframe tbody tr th {\n",
       "        vertical-align: top;\n",
       "    }\n",
       "\n",
       "    .dataframe thead th {\n",
       "        text-align: right;\n",
       "    }\n",
       "</style>\n",
       "<table border=\"1\" class=\"dataframe\">\n",
       "  <thead>\n",
       "    <tr style=\"text-align: right;\">\n",
       "      <th></th>\n",
       "      <th>probs</th>\n",
       "    </tr>\n",
       "  </thead>\n",
       "  <tbody>\n",
       "    <tr>\n",
       "      <th>1</th>\n",
       "      <td>0.2</td>\n",
       "    </tr>\n",
       "    <tr>\n",
       "      <th>2</th>\n",
       "      <td>0.6</td>\n",
       "    </tr>\n",
       "    <tr>\n",
       "      <th>3</th>\n",
       "      <td>0.8</td>\n",
       "    </tr>\n",
       "    <tr>\n",
       "      <th>5</th>\n",
       "      <td>1.0</td>\n",
       "    </tr>\n",
       "  </tbody>\n",
       "</table>\n",
       "</div>"
      ],
      "text/plain": [
       "1    0.2\n",
       "2    0.6\n",
       "3    0.8\n",
       "5    1.0\n",
       "Name: , dtype: float64"
      ]
     },
     "execution_count": 105,
     "metadata": {},
     "output_type": "execute_result"
    }
   ],
   "source": [
    "from empiricaldist import Cdf\n",
    "Cdf.from_seq(values)"
   ]
  },
  {
   "cell_type": "markdown",
   "id": "eab16447",
   "metadata": {},
   "source": [
    "$ P(x \\leq 1)=0.2$\n",
    "\n",
    "$ P(x \\leg  2)=0.6$\n",
    "\n",
    "$ P(x \\leg 3)=0.8$\n",
    "\n",
    "$ P(x \\leg 4)=1.0$"
   ]
  },
  {
   "cell_type": "code",
   "execution_count": 106,
   "id": "858b4eea",
   "metadata": {},
   "outputs": [
    {
     "ename": "IndexError",
     "evalue": "list assignment index out of range",
     "output_type": "error",
     "traceback": [
      "\u001b[0;31m---------------------------------------------------------------------------\u001b[0m",
      "\u001b[0;31mIndexError\u001b[0m                                Traceback (most recent call last)",
      "Cell \u001b[0;32mIn[106], line 2\u001b[0m\n\u001b[1;32m      1\u001b[0m cdf\u001b[38;5;241m=\u001b[39m[]\n\u001b[0;32m----> 2\u001b[0m \u001b[43mcdf\u001b[49m\u001b[43m[\u001b[49m\u001b[38;5;241;43m0\u001b[39;49m\u001b[43m]\u001b[49m \u001b[38;5;241m=\u001b[39m \u001b[38;5;241m0.2\u001b[39m\n\u001b[1;32m      3\u001b[0m cdf[\u001b[38;5;241m1\u001b[39m] \u001b[38;5;241m=\u001b[39m \u001b[38;5;241m0.2\u001b[39m \u001b[38;5;241m+\u001b[39m \u001b[38;5;241m0.4\u001b[39m\n\u001b[1;32m      4\u001b[0m cdf[\u001b[38;5;241m3\u001b[39m] \u001b[38;5;241m=\u001b[39m \u001b[38;5;241m0.2\u001b[39m\u001b[38;5;241m+\u001b[39m\u001b[38;5;241m0.4\u001b[39m\u001b[38;5;241m+\u001b[39m\u001b[38;5;241m0.2\u001b[39m\n",
      "\u001b[0;31mIndexError\u001b[0m: list assignment index out of range"
     ]
    }
   ],
   "source": [
    "cdf=[]\n",
    "cdf[0] = 0.2\n",
    "cdf[1] = 0.2 + 0.4\n",
    "cdf[3] = 0.2+0.4+0.2\n",
    "cdf[4] = 0.2+0.4+0.2+0.0\n",
    "cdf[5] = 0.2+0.4+0.2+0.0+2"
   ]
  },
  {
   "cell_type": "markdown",
   "id": "249ff4ab",
   "metadata": {},
   "source": [
    "\n",
    "If you draw a random value from values, __Cdf tells you the chance of getting a value less than or equal to x, for any given x__ or $P(X \\leq x)$. So\n",
    "\n",
    "* The Cdf of 1 is 1/5 because one of the five values in the sequence is less than or equal to 1.\n",
    "\n",
    "* The Cdf of 2 is 3/5 because three of the five values are less than or equal to 2.\n",
    "\n",
    "* The Cdf of 5 is 5/5 because all of the values are less than or equal to 5."
   ]
  },
  {
   "cell_type": "markdown",
   "id": "4403f60b",
   "metadata": {},
   "source": [
    "##  CDF of Age\n",
    "Now let's look at a more substantial Cdf, the __distribution of ages for respondents in the General Social Survey__.\n",
    "\n",
    "The variable we'll use is 'AGE'. According to the codebook, the range of the values is from 18 to 89, where 89 means \"89 or older\". The special codes 98 and 99 mean \"Don't know\" and \"Didn't answer\". See https://gssdataexplorer.norc.org/variables/53/vshow.\n",
    "\n",
    "I'll use replace to replace the special codes with NaN."
   ]
  },
  {
   "cell_type": "code",
   "execution_count": 110,
   "id": "1b087c45",
   "metadata": {},
   "outputs": [
    {
     "data": {
      "text/plain": [
       "Index(['YEAR', 'ID_', 'AGE', 'EDUC', 'SEX', 'GUNLAW', 'GRASS', 'REALINC'], dtype='object')"
      ]
     },
     "execution_count": 110,
     "metadata": {},
     "output_type": "execute_result"
    }
   ],
   "source": [
    "gss.columns"
   ]
  },
  {
   "cell_type": "code",
   "execution_count": 111,
   "id": "04a29071",
   "metadata": {},
   "outputs": [],
   "source": [
    "age = gss['AGE'].replace([98, 99], np.nan) #clean outliers out\n",
    "cdf_age = Cdf.from_seq(age)"
   ]
  },
  {
   "cell_type": "markdown",
   "id": "1a5a76c4",
   "metadata": {},
   "source": [
    "We can compute the Cdf of these values. "
   ]
  },
  {
   "cell_type": "markdown",
   "id": "4e8b8fbf",
   "metadata": {},
   "source": [
    "Cdf provides a method called plot that plots the CDF as a line. Here's what it looks like."
   ]
  },
  {
   "cell_type": "code",
   "execution_count": 112,
   "id": "032007dd",
   "metadata": {},
   "outputs": [
    {
     "data": {
      "image/png": "[encoded data removed]",
      "text/plain": [
       "<Figure size 640x480 with 1 Axes>"
      ]
     },
     "metadata": {},
     "output_type": "display_data"
    }
   ],
   "source": [
    "cdf_age.plot()\n",
    "\n",
    "plt.xlabel('Age (years)')\n",
    "plt.ylabel('CDF')\n",
    "plt.title('Distribution of age');"
   ]
  },
  {
   "cell_type": "markdown",
   "id": "56e467f3",
   "metadata": {},
   "source": [
    "The  𝑥 -axis is the ages, from 18 to 89. The  𝑦 -axis is the cumulative probabilities, from 0 to 1.\n",
    "\n",
    "__cdf_age can be used as a function__, so __if you give it an age, it returns the corresponding probability__ (in a NumPy array)."
   ]
  },
  {
   "cell_type": "code",
   "execution_count": 129,
   "id": "470fbd7d",
   "metadata": {},
   "outputs": [
    {
     "data": {
      "text/plain": [
       "array(0.63318676)"
      ]
     },
     "execution_count": 129,
     "metadata": {},
     "output_type": "execute_result"
    }
   ],
   "source": [
    "q = 51\n",
    "p = cdf_age(q)### P(X =51 or less)\n",
    "p #will show in percent like have to *100  63% "
   ]
  },
  {
   "cell_type": "markdown",
   "id": "3d0661c6",
   "metadata": {},
   "source": [
    "\n",
    "__q__ stands for __\"quantity\"__, which is what we are looking up. __p__ stands for __probability__, which is the result. \n",
    "\n",
    "In this example, the quantity is age 51, and the corresponding probability is about 0.63. That means that about 63% of the respondents are __51 years old or younger__."
   ]
  },
  {
   "cell_type": "markdown",
   "id": "5f578480",
   "metadata": {},
   "source": [
    "The __arrow in the following figure shows how you could read this value__ from the CDF, at least approximately."
   ]
  },
  {
   "cell_type": "code",
   "execution_count": 114,
   "id": "b13c7d7d",
   "metadata": {},
   "outputs": [],
   "source": [
    "def draw_line(p, q, x):\n",
    "    xs = [q, q, x]\n",
    "    ys = [0, p, p]\n",
    "    plt.plot(xs, ys, ':', color='gray')\n",
    "\n",
    "def draw_arrow_left(p, q, x):\n",
    "    dx = 3\n",
    "    dy = 0.025\n",
    "    xs = [x+dx, x, x+dx]\n",
    "    ys = [p-dy, p, p+dy]\n",
    "    plt.plot(xs, ys, ':', color='gray')\n",
    "    \n",
    "def draw_arrow_down(p, q, y):\n",
    "    dx = 1.25\n",
    "    dy = 0.045\n",
    "    xs = [q-dx, q, q+dx]\n",
    "    ys = [y+dy, y, y+dy]\n",
    "    plt.plot(xs, ys, ':', color='gray')"
   ]
  },
  {
   "cell_type": "code",
   "execution_count": 115,
   "id": "b1ee13d8",
   "metadata": {},
   "outputs": [
    {
     "data": {
      "image/png": "[encoded data removed]",
      "text/plain": [
       "<Figure size 640x480 with 1 Axes>"
      ]
     },
     "metadata": {},
     "output_type": "display_data"
    }
   ],
   "source": [
    "cdf_age.plot()\n",
    "\n",
    "x = 17\n",
    "draw_line(p, q, x)\n",
    "draw_arrow_left(p, q, x)\n",
    "\n",
    "plt.xlabel('Age (years)')\n",
    "plt.xlim(x-1, 91)\n",
    "plt.ylabel('CDF')\n",
    "plt.title('Distribution of age');"
   ]
  },
  {
   "cell_type": "markdown",
   "id": "dbae4be5",
   "metadata": {},
   "source": [
    "#### The CDF is an invertible function,\n",
    "\n",
    "* which means that if you have a probability, p, you can look up the corresponding quantity, q. \n",
    "\n",
    "* Cdf provides a method called inverse that computes the inverse of the cumulative distribution function."
   ]
  },
  {
   "cell_type": "code",
   "execution_count": 131,
   "id": "df70c6e1",
   "metadata": {},
   "outputs": [
    {
     "data": {
      "text/plain": [
       "array(31.)"
      ]
     },
     "execution_count": 131,
     "metadata": {},
     "output_type": "execute_result"
    }
   ],
   "source": [
    "p1 = 0.25\n",
    "q1 = cdf_age.inverse(p1)\n",
    "q1"
   ]
  },
  {
   "cell_type": "code",
   "execution_count": 132,
   "id": "fc98ba00",
   "metadata": {},
   "outputs": [
    {
     "name": "stdout",
     "output_type": "stream",
     "text": [
      "31.0\n"
     ]
    }
   ],
   "source": [
    "p3 = 0.25\n",
    "q3 = cdf_age.inverse(p3)\n",
    "print(q3)"
   ]
  },
  {
   "cell_type": "markdown",
   "id": "eeeabd02",
   "metadata": {},
   "source": [
    "\n",
    "In this example, __we look up the probability 0.63 and the result is 51__.\n",
    "\n",
    "That means that 25% of the respondents are age 31 or less. Another way to say the same thing is \"age 31 is the 25th percentile of this distribution\"."
   ]
  },
  {
   "cell_type": "markdown",
   "id": "bb919dc7",
   "metadata": {},
   "source": [
    "If __we look up probability 0.75__, it returns 59, so 75% of the respondents are 59 or younger."
   ]
  },
  {
   "cell_type": "code",
   "execution_count": 133,
   "id": "ec23dbb4",
   "metadata": {},
   "outputs": [
    {
     "data": {
      "text/plain": [
       "array(59.)"
      ]
     },
     "execution_count": 133,
     "metadata": {},
     "output_type": "execute_result"
    }
   ],
   "source": [
    "p2 = 0.75\n",
    "q2 = cdf_age.inverse(p2)\n",
    "q2"
   ]
  },
  {
   "cell_type": "markdown",
   "id": "ecce45af",
   "metadata": {},
   "source": [
    "In the following figure, the arrows show how you could read these values from the CDF."
   ]
  },
  {
   "cell_type": "code",
   "execution_count": 134,
   "id": "7622f426",
   "metadata": {},
   "outputs": [
    {
     "data": {
      "image/png": "[encoded data removed]",
      "text/plain": [
       "<Figure size 640x480 with 1 Axes>"
      ]
     },
     "metadata": {},
     "output_type": "display_data"
    }
   ],
   "source": [
    "cdf_age.plot()\n",
    "\n",
    "x = 17\n",
    "draw_line(p1, q1, x)\n",
    "draw_arrow_down(p1, q1, 0)\n",
    "\n",
    "draw_line(p2, q2, x)\n",
    "draw_arrow_down(p2, q2, 0)\n",
    "\n",
    "plt.xlabel('Age (years)')\n",
    "plt.xlim(x-1, 91)\n",
    "plt.ylabel('CDF')\n",
    "plt.title('Distribution of age');"
   ]
  },
  {
   "cell_type": "markdown",
   "id": "6db75214",
   "metadata": {},
   "source": [
    "The distance from the 25th to the 75th percentile is called the __interquartile range__, or IQR. It __measures the spread of the distribution__, so it is similar to standard deviation or variance."
   ]
  },
  {
   "cell_type": "markdown",
   "id": "ec5dd74d",
   "metadata": {},
   "source": [
    "## Comparing Distributions\n",
    "\n",
    "So far __we've seen two ways to represent distributions, PMFs and CDFs__. Now __we'll use PMFs and CDFs to compare distributions__, and we'll see the pros and cons of each.\n",
    "\n",
    "One way __to compare distributions is to plot multiple PMFs on the same axes__. For example, suppose __we want to compare the distribution of age for male and female respondents__.\n",
    "\n",
    "First I'll __create a Boolean Series__ that's true for male respondents.\n",
    "And another that's true for female respondents."
   ]
  },
  {
   "cell_type": "code",
   "execution_count": 148,
   "id": "945bc6f5",
   "metadata": {},
   "outputs": [],
   "source": [
    "male = (gss['SEX'] == 1) #first column is male"
   ]
  },
  {
   "cell_type": "code",
   "execution_count": 149,
   "id": "6d4411e4",
   "metadata": {},
   "outputs": [],
   "source": [
    "female = (gss['SEX'] == 2)#second colum and series is female"
   ]
  },
  {
   "cell_type": "code",
   "execution_count": 150,
   "id": "e2e518be",
   "metadata": {},
   "outputs": [],
   "source": [
    "age = gss['AGE'].replace([98, 99], np.nan) #clean outliers out\n",
    "cdf_age = Cdf.from_seq(age)"
   ]
  },
  {
   "cell_type": "code",
   "execution_count": 151,
   "id": "847da6a4",
   "metadata": {},
   "outputs": [
    {
     "data": {
      "text/plain": [
       "0        False\n",
       "1         True\n",
       "2        False\n",
       "3        False\n",
       "4        False\n",
       "         ...  \n",
       "64809    False\n",
       "64810    False\n",
       "64811    False\n",
       "64812     True\n",
       "64813    False\n",
       "Name: SEX, Length: 64814, dtype: bool"
      ]
     },
     "execution_count": 151,
     "metadata": {},
     "output_type": "execute_result"
    }
   ],
   "source": [
    "male #seperate list that tell "
   ]
  },
  {
   "cell_type": "code",
   "execution_count": 152,
   "id": "1d4dfff1",
   "metadata": {},
   "outputs": [
    {
     "data": {
      "text/plain": [
       "0        23.0\n",
       "2        48.0\n",
       "3        27.0\n",
       "4        61.0\n",
       "8        21.0\n",
       "         ... \n",
       "64807    68.0\n",
       "64809    37.0\n",
       "64810    75.0\n",
       "64811    67.0\n",
       "64813    79.0\n",
       "Name: AGE, Length: 36200, dtype: float64"
      ]
     },
     "execution_count": 152,
     "metadata": {},
     "output_type": "execute_result"
    }
   ],
   "source": [
    "age[female]"
   ]
  },
  {
   "cell_type": "code",
   "execution_count": 154,
   "id": "0ec26950",
   "metadata": {},
   "outputs": [
    {
     "data": {
      "text/plain": [
       "1        70.0\n",
       "5        26.0\n",
       "6        28.0\n",
       "7        27.0\n",
       "11       56.0\n",
       "         ... \n",
       "64796    50.0\n",
       "64799    76.0\n",
       "64806    89.0\n",
       "64808    19.0\n",
       "64812    72.0\n",
       "Name: AGE, Length: 28614, dtype: float64"
      ]
     },
     "execution_count": 154,
     "metadata": {},
     "output_type": "execute_result"
    }
   ],
   "source": [
    "age[male] ##compare to age['female'], dictionary notation is not used in this"
   ]
  },
  {
   "cell_type": "code",
   "execution_count": null,
   "id": "97ddbb0c",
   "metadata": {},
   "outputs": [],
   "source": []
  },
  {
   "cell_type": "markdown",
   "id": "c885b549",
   "metadata": {},
   "source": [
    "Now I can select ages for the male and female respondents. Then plots graphs."
   ]
  },
  {
   "cell_type": "code",
   "execution_count": 155,
   "id": "67a06b49",
   "metadata": {},
   "outputs": [
    {
     "data": {
      "image/png": "[encoded data removed]",
      "text/plain": [
       "<Figure size 640x480 with 1 Axes>"
      ]
     },
     "metadata": {},
     "output_type": "display_data"
    }
   ],
   "source": [
    "male_age = age[male]\n",
    "female_age = age[female]\n",
    "\n",
    "\n",
    "pmf_male_age = Pmf.from_seq(male_age)\n",
    "pmf_male_age.plot(label='Male')\n",
    "\n",
    "pmf_female_age = Pmf.from_seq(female_age)\n",
    "pmf_female_age.plot(label='Female')\n",
    "\n",
    "plt.xlabel('Age (years)') \n",
    "plt.ylabel('PMF')\n",
    "plt.title('Distribution of age by sex')\n",
    "plt.legend();"
   ]
  },
  {
   "cell_type": "markdown",
   "id": "95a21e6e",
   "metadata": {},
   "source": [
    "* The plot is pretty __noisy__. \n",
    "\n",
    "* In the range from 40 to 50, it looks like the PMF is higher for men. And from 70 to 80, it is higher for women. \n",
    "\n",
    "* But both of those differences might be due to random variation.\n",
    "\n",
    "\n",
    "Now let's do the same thing with CDFs; everything is the same except we replace Pmf with Cdf."
   ]
  },
  {
   "cell_type": "code",
   "execution_count": 156,
   "id": "583d95ce",
   "metadata": {},
   "outputs": [
    {
     "data": {
      "image/png": "[encoded data removed]",
      "text/plain": [
       "<Figure size 640x480 with 1 Axes>"
      ]
     },
     "metadata": {},
     "output_type": "display_data"
    }
   ],
   "source": [
    "cdf_male_age = Cdf.from_seq(male_age)\n",
    "cdf_male_age.plot(label='Male')\n",
    "\n",
    "cdf_female_age = Cdf.from_seq(female_age)\n",
    "cdf_female_age.plot(label='Female')\n",
    "\n",
    "plt.xlabel('Age (years)') \n",
    "plt.ylabel('CDF')\n",
    "plt.title('Distribution of age by sex')\n",
    "plt.legend();\n",
    "#cdf will avg out "
   ]
  },
  {
   "cell_type": "markdown",
   "id": "4efa82e4",
   "metadata": {},
   "source": [
    "* In general, CDFs are __smoother__ than PMFs. __Because they smooth out randomness__, we can often __get a better view of real differences between distributions__. \n",
    "\n",
    "In this case, __the lines are close together until age 40; after that, the CDF is higher for men than women__. So what does that mean?"
   ]
  },
  {
   "cell_type": "markdown",
   "id": "c99bb8eb",
   "metadata": {},
   "source": [
    "One way to interpret the difference is that the fraction of men below a given age is generally more than the fraction of women below the same age. For example, about 79% of men are 60 or less, compared to 76% of women."
   ]
  },
  {
   "cell_type": "code",
   "execution_count": 157,
   "id": "ddb5c922",
   "metadata": {},
   "outputs": [
    {
     "data": {
      "text/plain": [
       "(array(0.78599958), array(0.75529908))"
      ]
     },
     "execution_count": 157,
     "metadata": {},
     "output_type": "execute_result"
    }
   ],
   "source": [
    "cdf_male_age(60), cdf_female_age(60) # use this to calculate to percentage"
   ]
  },
  {
   "cell_type": "markdown",
   "id": "d5da35b3",
   "metadata": {},
   "source": [
    "Going the other way, we could also compare percentiles. For example, the median age woman is older than the median age man, by about one year."
   ]
  },
  {
   "cell_type": "code",
   "execution_count": 158,
   "id": "0a38b082",
   "metadata": {},
   "outputs": [
    {
     "data": {
      "text/plain": [
       "(array(43.), array(44.))"
      ]
     },
     "execution_count": 158,
     "metadata": {},
     "output_type": "execute_result"
    }
   ],
   "source": [
    "cdf_male_age.inverse(0.5), cdf_female_age.inverse(0.5)"
   ]
  },
  {
   "cell_type": "markdown",
   "id": "d578e7e4",
   "metadata": {},
   "source": [
    "\n",
    "## Income\n",
    "\n",
    "As another example, let's look at __household income__ and compare the distribution before and after 1995 (I chose 1995 because it's roughly the midpoint of the survey). The variable REALINC represents household income in 1986 dollars(reference year for Dollas Value).\n",
    "\n",
    "We will make a Boolean Series to select respondents interviewed before and after 1995."
   ]
  },
  {
   "cell_type": "code",
   "execution_count": 159,
   "id": "fb00fcd1",
   "metadata": {},
   "outputs": [],
   "source": [
    "pre95 = (gss['YEAR'] < 1995)\n",
    "post95 = (gss['YEAR'] >= 1995)"
   ]
  },
  {
   "cell_type": "markdown",
   "id": "f0c1d5ee",
   "metadata": {},
   "source": [
    "\n",
    "Now we can plot the PMFs."
   ]
  },
  {
   "cell_type": "code",
   "execution_count": 126,
   "id": "8ce8988b",
   "metadata": {},
   "outputs": [
    {
     "data": {
      "image/png": "[encoded data removed]",
      "text/plain": [
       "<Figure size 640x480 with 1 Axes>"
      ]
     },
     "metadata": {},
     "output_type": "display_data"
    }
   ],
   "source": [
    "income = gss['REALINC'].replace(0, np.nan)\n",
    "\n",
    "Pmf.from_seq(income[pre95]).plot(label='Before 1995')\n",
    "Pmf.from_seq(income[post95]).plot(label='After 1995')\n",
    "\n",
    "plt.xlabel('Income (1986 USD)')\n",
    "plt.ylabel('PMF')\n",
    "plt.title('Distribution of income')\n",
    "plt.legend();"
   ]
  },
  {
   "cell_type": "markdown",
   "id": "527329d5",
   "metadata": {},
   "source": [
    "\n",
    "There are a __lot of unique values in this distribution__, and none of them appear very often. As a result, the __PMF is so noisy and we can't really see the shape of the distribution__.\n",
    "\n",
    "It's also hard to compare the distributions. It looks like there are more people with high incomes after 1995, but it's hard to tell. __We can get a clearer picture with a CDF__."
   ]
  },
  {
   "cell_type": "code",
   "execution_count": null,
   "id": "159dbee7",
   "metadata": {},
   "outputs": [
    {
     "data": {
      "image/png": "[encoded data removed]",
      "text/plain": [
       "<Figure size 640x480 with 1 Axes>"
      ]
     },
     "metadata": {},
     "output_type": "display_data"
    }
   ],
   "source": [
    "Cdf.from_seq(income[pre95]).plot(label='Before 1995')\n",
    "Cdf.from_seq(income[post95]).plot(label='After 1995')\n",
    "\n",
    "plt.xlabel('Income (1986 USD)')\n",
    "plt.ylabel('CDF')\n",
    "plt.title('Distribution of income')\n",
    "plt.legend();\n",
    "\n",
    "##not change will saturate linear \n",
    "##after 1995 high income get higher income"
   ]
  },
  {
   "cell_type": "markdown",
   "id": "dc5d3f06",
   "metadata": {},
   "source": [
    "Below $30,000 the CDFs are almost identical; above that, we can see that the post-1995 distribution is shifted to the right. In other words, the fraction of people with high incomes is about the same, but the income of high earners has increased."
   ]
  },
  {
   "cell_type": "markdown",
   "id": "e7fc273f",
   "metadata": {},
   "source": [
    "1 variable -> pmf \n",
    "\n",
    "more than 1 variable cdf get out noise data\n",
    "\n",
    "cdf accumulation"
   ]
  },
  {
   "cell_type": "markdown",
   "id": "8079f436",
   "metadata": {},
   "source": [
    "In general, __We recommend CDFs for exploratory analysis__.\n",
    "* They give you a clear view of the distribution, without too much noise, \n",
    "* They are good for comparing distributions, especially if you have more than two."
   ]
  }
 ],
 "metadata": {
  "kernelspec": {
   "display_name": "Python 3 (ipykernel)",
   "language": "python",
   "name": "python3"
  },
  "language_info": {
   "codemirror_mode": {
    "name": "ipython",
    "version": 3
   },
   "file_extension": ".py",
   "mimetype": "text/x-python",
   "name": "python",
   "nbconvert_exporter": "python",
   "pygments_lexer": "ipython3",
   "version": "3.9.10"
  }
 },
 "nbformat": 4,
 "nbformat_minor": 5
}
