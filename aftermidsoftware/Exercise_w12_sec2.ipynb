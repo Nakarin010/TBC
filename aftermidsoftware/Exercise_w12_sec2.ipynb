{
 "cells": [
  {
   "attachments": {},
   "cell_type": "markdown",
   "id": "e2b1cfcb",
   "metadata": {},
   "source": [
    "# Exercise\n",
    "\n",
    "\n",
    "\n"
   ]
  },
  {
   "attachments": {},
   "cell_type": "markdown",
   "id": "d1577da4",
   "metadata": {},
   "source": [
    "### Execsise 1:\n",
    "Let's look at another column in this DataFrame, YEAR, which represents the year each respondent was interviewed.\n",
    "\n",
    "Make an unnormalized PMF for YEAR and display the result. How many respondents were interviewed in 2018?\n",
    "\n",
    "In which year was the repondents is largest, answer by build logic statement. "
   ]
  },
  {
   "cell_type": "code",
   "execution_count": 5,
   "id": "06b68978",
   "metadata": {},
   "outputs": [],
   "source": [
    "dict_file = 'GSS.dct'\n",
    "data_file = 'GSS.dat.gz'"
   ]
  },
  {
   "cell_type": "code",
   "execution_count": 42,
   "id": "ae3d638d",
   "metadata": {},
   "outputs": [],
   "source": [
    "from empiricaldist import Pmf, Cdf\n",
    "import numpy as np\n",
    "from matplotlib import pyplot as plt"
   ]
  },
  {
   "cell_type": "code",
   "execution_count": 26,
   "id": "ae2629f1",
   "metadata": {},
   "outputs": [],
   "source": [
    "try:\n",
    "    from statadict import parse_stata_dict\n",
    "except ImportError:\n",
    "    !pip install statadict"
   ]
  },
  {
   "cell_type": "code",
   "execution_count": 27,
   "id": "8315b953",
   "metadata": {},
   "outputs": [],
   "source": [
    "from statadict import parse_stata_dict\n",
    "\n",
    "stata_dict = parse_stata_dict(dict_file)"
   ]
  },
  {
   "cell_type": "code",
   "execution_count": 28,
   "id": "ee2c1c9a",
   "metadata": {},
   "outputs": [],
   "source": [
    "import gzip\n",
    "\n",
    "fp = gzip.open(data_file)"
   ]
  },
  {
   "cell_type": "code",
   "execution_count": 29,
   "id": "e0c2a4f4",
   "metadata": {},
   "outputs": [
    {
     "data": {
      "text/plain": [
       "(64814, 8)"
      ]
     },
     "execution_count": 29,
     "metadata": {},
     "output_type": "execute_result"
    }
   ],
   "source": [
    "import pandas as pd\n",
    "\n",
    "gss = pd.read_fwf(fp, \n",
    "                names=stata_dict.names, \n",
    "                colspecs=stata_dict.colspecs)\n",
    "gss.shape"
   ]
  },
  {
   "cell_type": "code",
   "execution_count": 30,
   "id": "530cefd6",
   "metadata": {},
   "outputs": [
    {
     "data": {
      "text/plain": [
       "YEAR\n",
       "1972    1613\n",
       "1973    1504\n",
       "1974    1484\n",
       "1975    1490\n",
       "1976    1499\n",
       "1977    1530\n",
       "1978    1532\n",
       "1980    1468\n",
       "1982    1860\n",
       "1983    1599\n",
       "1984    1473\n",
       "1985    1534\n",
       "1986    1470\n",
       "1987    1819\n",
       "1988    1481\n",
       "1989    1537\n",
       "1990    1372\n",
       "1991    1517\n",
       "1993    1606\n",
       "1994    2992\n",
       "1996    2904\n",
       "1998    2832\n",
       "2000    2817\n",
       "2002    2765\n",
       "2004    2812\n",
       "2006    4510\n",
       "2008    2023\n",
       "2010    2044\n",
       "2012    1974\n",
       "2014    2538\n",
       "2016    2867\n",
       "2018    2348\n",
       "Name: count, dtype: int64"
      ]
     },
     "execution_count": 30,
     "metadata": {},
     "output_type": "execute_result"
    }
   ],
   "source": [
    "gss['YEAR'].value_counts().sort_index()"
   ]
  },
  {
   "cell_type": "code",
   "execution_count": 31,
   "id": "6a963e7d",
   "metadata": {},
   "outputs": [
    {
     "name": "stdout",
     "output_type": "stream",
     "text": [
      "2348\n"
     ]
    }
   ],
   "source": [
    "year = gss['YEAR'].value_counts().sort_index()\n",
    "print(year[2018])"
   ]
  },
  {
   "cell_type": "code",
   "execution_count": 32,
   "id": "0573cc44",
   "metadata": {},
   "outputs": [
    {
     "name": "stdout",
     "output_type": "stream",
     "text": [
      "YEAR\n",
      "2006    4510\n",
      "Name: , dtype: int64\n"
     ]
    }
   ],
   "source": [
    "year = gss['YEAR']\n",
    "pmf_year = Pmf.from_seq(year, normalize=False)\n",
    "print(pmf_year[pmf_year== max(pmf_year)])"
   ]
  },
  {
   "attachments": {},
   "cell_type": "markdown",
   "id": "f2cc5b48",
   "metadata": {},
   "source": [
    "### Exercise II:\n",
    "\n",
    "Using cdf_age, compute the fraction of the respondents in the GSS dataset that are older than 60."
   ]
  },
  {
   "cell_type": "code",
   "execution_count": 44,
   "id": "553a21a2",
   "metadata": {},
   "outputs": [],
   "source": [
    "age = gss['AGE'].replace([98, 99], np.nan) #clean outliers out\n",
    "cdf_age = Cdf.from_seq(age)"
   ]
  },
  {
   "cell_type": "code",
   "execution_count": 45,
   "id": "777f1e2a",
   "metadata": {},
   "outputs": [
    {
     "data": {
      "text/plain": [
       "0.23113368222215336"
      ]
     },
     "execution_count": 45,
     "metadata": {},
     "output_type": "execute_result"
    }
   ],
   "source": [
    "q = 60\n",
    "p = cdf_age(q)### P(X =60 or less)\n",
    "1-p #will show in percent like have to *100  "
   ]
  },
  {
   "attachments": {},
   "cell_type": "markdown",
   "id": "9269ed07",
   "metadata": {},
   "source": [
    "### Exercise III:\n",
    "\n",
    "The distribution of income in almost every country is long-tailed, which means there are a small number of people with very high incomes. In the GSS dataset, the column REALINC represents total household income, converted to 1986 dollars (REFERENCED value of Dollas). We can get a sense of the shape of this distribution by plotting the CDF.\n",
    "\n",
    "Select REALINC from the gss dataset, make a Cdf called cdf_income, and plot it. Remember to label the axes!"
   ]
  },
  {
   "attachments": {},
   "cell_type": "markdown",
   "id": "6fd2ad90",
   "metadata": {},
   "source": []
  },
  {
   "cell_type": "code",
   "execution_count": 49,
   "id": "972020ff",
   "metadata": {},
   "outputs": [
    {
     "name": "stderr",
     "output_type": "stream",
     "text": [
      "No artists with labels found to put in legend.  Note that artists whose label start with an underscore are ignored when legend() is called with no argument.\n"
     ]
    },
    {
     "data": {
      "image/png": "[encoded data removed]",
      "text/plain": [
       "<Figure size 640x480 with 1 Axes>"
      ]
     },
     "metadata": {},
     "output_type": "display_data"
    }
   ],
   "source": [
    "income = gss['REALINC'].replace(0, np.nan)\n",
    "\n",
    "Cdf.from_seq(income).plot()\n",
    "\n",
    "plt.xlabel('Income (1986 USD)')\n",
    "plt.ylabel('PMF')\n",
    "plt.title('Distribution of income')\n",
    "plt.legend();"
   ]
  },
  {
   "cell_type": "code",
   "execution_count": null,
   "id": "130e6919",
   "metadata": {},
   "outputs": [],
   "source": []
  }
 ],
 "metadata": {
  "kernelspec": {
   "display_name": "Python 3 (ipykernel)",
   "language": "python",
   "name": "python3"
  }
 },
 "nbformat": 4,
 "nbformat_minor": 5
}
