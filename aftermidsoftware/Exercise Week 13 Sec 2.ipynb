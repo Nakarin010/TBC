{
 "cells": [
  {
   "cell_type": "code",
   "execution_count": 58,
   "id": "a5285d46",
   "metadata": {},
   "outputs": [],
   "source": [
    "import scipy as sc\n",
    "import numpy as np\n",
    "import analytic\n",
    "import pandas \n",
    "import thinkstats2\n",
    "import thinkplot,random\n"
   ]
  },
  {
   "attachments": {},
   "cell_type": "markdown",
   "id": "26b2a6c3",
   "metadata": {},
   "source": [
    "# Exercise Week 13\n",
    "\n",
    "### Exercise I:\n",
    "Given the distribution of heights is roughly normal with parameters µ = 178 cm and σ = 7.7 cm for men, and µ = 163 cm and σ = 7.3 cm for women.\n",
    "\n",
    "In order to join Blue Man Group, you have to be male between 5’10” and 6’1”. What percentage of the U.S. male population is in this range? Hint: use scipy.stats.norm.cdf.\n",
    "\n",
    "scipy.stats contains objects that represent analytic distributions"
   ]
  },
  {
   "cell_type": "code",
   "execution_count": 59,
   "id": "0d1d6036",
   "metadata": {},
   "outputs": [],
   "source": [
    "# create a normal distribution  with parameters µ = 178 cm and σ = 7.7 cm for men\n",
    "# use distribution.mean and standand variace to find out CDF of percentage of the U.S. male population is in this range\n",
    "# male height between 5’10” and 6’1” hint: convert to centimeter.\n",
    "#1 inch = 2.54 cm"
   ]
  },
  {
   "cell_type": "code",
   "execution_count": 60,
   "id": "739da214",
   "metadata": {},
   "outputs": [],
   "source": [
    "mu_male = 178\n",
    "sd_male = 7.7 "
   ]
  },
  {
   "cell_type": "code",
   "execution_count": 61,
   "id": "8649769c",
   "metadata": {},
   "outputs": [],
   "source": [
    "upperlimit = 185.42\n",
    "lowerbond = 177.8"
   ]
  },
  {
   "cell_type": "code",
   "execution_count": 66,
   "id": "64a41123",
   "metadata": {},
   "outputs": [],
   "source": [
    "cdf_upper = sc.stats.norm.cdf(upperlimit,loc=mu_male,scale = sd_male)\n",
    "cdf_lower = sc.stats.norm.cdf(lowerbond,loc=mu_male,scale = sd_male)"
   ]
  },
  {
   "cell_type": "code",
   "execution_count": 67,
   "id": "5623940d",
   "metadata": {},
   "outputs": [
    {
     "name": "stdout",
     "output_type": "stream",
     "text": [
      "the percent of male population with the height between 5'10 and 6'1 is 34.274683763147365 %\n"
     ]
    }
   ],
   "source": [
    "Therange = cdf_upper - cdf_lower\n",
    "therange = Therange*100\n",
    "print(\"the percent of male population with the height between 5'10 and 6'1 is\",therange,\"%\")"
   ]
  },
  {
   "attachments": {},
   "cell_type": "markdown",
   "id": "7807ca2a",
   "metadata": {},
   "source": [
    "### Exercise II:\n",
    "For small values of __n__, we don’t expect an empirical distribution to fit an __analytic distribution exactly__. One way to evaluate the quality of fit is to generate a sample from an analytic distribution and see how well it matches the data.\n",
    "\n",
    "We will look at the interarrival time of births. On December 18, 1997, 44 babies were born in a hospital in Brisbane, Australia\n",
    "\n",
    "We plotted the distribution of time between births and saw that it is approximately exponential. But the distribution is based on only 44 data points.\n",
    "\n",
    "To see whether the data might have come from an exponential distribution, generate 44 values from an exponential distribution with the same mean as the data, about 33 minutes between births.\n",
    "\n",
    "__Plot the distribution of the random values and compare it to the actual distribution. You can use random.expovariate to generate the values.__"
   ]
  },
  {
   "cell_type": "code",
   "execution_count": 68,
   "id": "c5b73f97",
   "metadata": {},
   "outputs": [],
   "source": [
    "\n",
    "\n",
    "df = analytic.ReadBabyBoom()\n",
    "diffs = df.minutes.diff()\n",
    "cdf = thinkstats2.Cdf(diffs, label=\"actual\")\n",
    "\n",
    "# the rest is how to model the data with Lamda only parameter\n",
    "\n"
   ]
  },
  {
   "cell_type": "code",
   "execution_count": 69,
   "id": "e7ac55b0",
   "metadata": {},
   "outputs": [
    {
     "data": {
      "text/plain": [
       "44"
      ]
     },
     "execution_count": 69,
     "metadata": {},
     "output_type": "execute_result"
    }
   ],
   "source": [
    "n = len(diffs)\n",
    "n"
   ]
  },
  {
   "cell_type": "code",
   "execution_count": 78,
   "id": "dcafd759",
   "metadata": {},
   "outputs": [
    {
     "data": {
      "text/plain": [
       "(32.72727272727273, 33.19631005868186)"
      ]
     },
     "execution_count": 78,
     "metadata": {},
     "output_type": "execute_result"
    }
   ],
   "source": [
    "lam = n / 24 / 60 # n/24 hours/60 minutes will get per minute\n",
    "#building model by generating exp() distribution\n",
    "sample = [random.expovariate(lam) for _ in range(n)]\n",
    "\n",
    "1 / lam, np.mean(sample) \n",
    "\n",
    "#from sample to real data it different by 4 minute"
   ]
  },
  {
   "cell_type": "code",
   "execution_count": 77,
   "id": "11b9ab55",
   "metadata": {},
   "outputs": [
    {
     "data": {
      "image/png": "[encoded data removed]",
      "text/plain": [
       "<Figure size 640x480 with 1 Axes>"
      ]
     },
     "metadata": {},
     "output_type": "display_data"
    }
   ],
   "source": [
    "thinkplot.Cdfs([cdf,thinkstats2.Cdf(sample, label=\"sample\")]  ,complement=True)"
   ]
  },
  {
   "cell_type": "code",
   "execution_count": null,
   "id": "5ebef610",
   "metadata": {},
   "outputs": [
    {
     "data": {
      "text/plain": [
       "0       NaN\n",
       "1      59.0\n",
       "2      14.0\n",
       "3      37.0\n",
       "4      62.0\n",
       "5      68.0\n",
       "6       2.0\n",
       "7      15.0\n",
       "8       9.0\n",
       "9     157.0\n",
       "10     27.0\n",
       "11     37.0\n",
       "12      2.0\n",
       "13     55.0\n",
       "14     86.0\n",
       "15     14.0\n",
       "16      4.0\n",
       "17     40.0\n",
       "18     36.0\n",
       "19     47.0\n",
       "20      9.0\n",
       "21     61.0\n",
       "22      1.0\n",
       "23     26.0\n",
       "24     13.0\n",
       "25     28.0\n",
       "26     77.0\n",
       "27     26.0\n",
       "28     45.0\n",
       "29     25.0\n",
       "30     18.0\n",
       "31     29.0\n",
       "32     15.0\n",
       "33     38.0\n",
       "34      2.0\n",
       "35      2.0\n",
       "36     19.0\n",
       "37     27.0\n",
       "38     14.0\n",
       "39     13.0\n",
       "40     19.0\n",
       "41     54.0\n",
       "42     70.0\n",
       "43     28.0\n",
       "Name: minutes, dtype: float64"
      ]
     },
     "execution_count": 12,
     "metadata": {},
     "output_type": "execute_result"
    }
   ],
   "source": [
    "diffs #time differences between babies or interval arrival"
   ]
  },
  {
   "cell_type": "code",
   "execution_count": null,
   "id": "04a9d73c",
   "metadata": {},
   "outputs": [],
   "source": []
  }
 ],
 "metadata": {
  "kernelspec": {
   "display_name": "Python 3 (ipykernel)",
   "language": "python",
   "name": "python3"
  },
  "language_info": {
   "codemirror_mode": {
    "name": "ipython",
    "version": 3
   },
   "file_extension": ".py",
   "mimetype": "text/x-python",
   "name": "python",
   "nbconvert_exporter": "python",
   "pygments_lexer": "ipython3",
   "version": "3.10.13"
  }
 },
 "nbformat": 4,
 "nbformat_minor": 5
}
