{
 "cells": [
  {
   "cell_type": "code",
   "execution_count": 1,
   "metadata": {},
   "outputs": [],
   "source": [
    "##Newton-Raphson's method \n",
    "#f(x)\n",
    "#f'(x)"
   ]
  },
  {
   "cell_type": "code",
   "execution_count": 2,
   "metadata": {},
   "outputs": [],
   "source": [
    "def f(x):\n",
    "    return (x**3) - (6*(x**2))+(4*x)+12\n",
    "#end function"
   ]
  },
  {
   "cell_type": "code",
   "execution_count": 3,
   "metadata": {},
   "outputs": [],
   "source": [
    "def df(x):\n",
    "    return (3*(x**2)) - (12*x)+4\n",
    "#end of function"
   ]
  },
  {
   "cell_type": "code",
   "execution_count": 4,
   "metadata": {},
   "outputs": [],
   "source": [
    "def newtonraphson(f,df,x0):\n",
    "    xr_prev = x0 \n",
    "    epa = 100\n",
    "    sf =5 # 5 significant number\n",
    "    eps = 0.5 *(10**(2-sf))\n",
    "    i=0\n",
    "    while (epa>eps): ##stoping criteria\n",
    "        i = i+1\n",
    "        xr =xr_prev - (f(xr_prev)/df(xr_prev)) ##f / first derivative\n",
    "        epa = abs(100*((xr-xr_prev)/xr))\n",
    "        xr_prev = xr ##save the \n",
    "        print(\"Iteration #%2d: xr =%4.6f,epa = %4.4f\" %(i,xr,epa)) \n",
    "    #end while\n",
    "#end function"
   ]
  },
  {
   "cell_type": "code",
   "execution_count": 5,
   "metadata": {},
   "outputs": [
    {
     "name": "stdout",
     "output_type": "stream",
     "text": [
      "Iteration # 1: xr =4.571134,epa = 5.0068\n",
      "Iteration # 2: xr =4.534961,epa = 0.7976\n",
      "Iteration # 3: xr =4.534071,epa = 0.0196\n",
      "Iteration # 4: xr =4.534070,epa = 0.0000\n"
     ]
    }
   ],
   "source": [
    "#initialize x0\n",
    "x0 = 4.8\n",
    "xr = newtonraphson(f,df,x0)"
   ]
  },
  {
   "cell_type": "code",
   "execution_count": 6,
   "metadata": {},
   "outputs": [],
   "source": [
    "#Fixed-Point Iteration Method"
   ]
  },
  {
   "cell_type": "code",
   "execution_count": 7,
   "metadata": {},
   "outputs": [],
   "source": [
    "def f2(x):\n",
    "    return (x**2) -x - 1\n",
    "#end of function"
   ]
  },
  {
   "cell_type": "code",
   "execution_count": 16,
   "metadata": {},
   "outputs": [],
   "source": [
    "def fixed_point(x0):\n",
    "    xr_prev = x0 \n",
    "    epa = 100\n",
    "    sf =5 # 5 significant number\n",
    "    eps = 0.5 *(10**(2-sf))\n",
    "    i=0\n",
    "    while (epa>eps): ##stoping criteria\n",
    "        i = i+1\n",
    "        xr =1+(1/xr_prev)\n",
    "        # xr =xr_prev - (f(xr_prev)/df(xr_prev)) ##f / first derivative\n",
    "        epa = abs(100*((xr-xr_prev)/xr))\n",
    "        xr_prev = xr ##save the  \n",
    "        print(\"Iteration #%2d: xr =%4.6f, epa = %4.4f\" %(i,xr,epa)) \n",
    "    #end while\n",
    "#end functions"
   ]
  },
  {
   "cell_type": "code",
   "execution_count": 17,
   "metadata": {},
   "outputs": [
    {
     "name": "stdout",
     "output_type": "stream",
     "text": [
      "Iteration # 1: xr =-0.111111, epa = 710.0000\n",
      "Iteration # 2: xr =-8.000000, epa = 98.6111\n",
      "Iteration # 3: xr =0.875000, epa = 1014.2857\n",
      "Iteration # 4: xr =2.142857, epa = 59.1667\n",
      "Iteration # 5: xr =1.466667, epa = 46.1039\n",
      "Iteration # 6: xr =1.681818, epa = 12.7928\n",
      "Iteration # 7: xr =1.594595, epa = 5.4700\n",
      "Iteration # 8: xr =1.627119, epa = 1.9989\n",
      "Iteration # 9: xr =1.614583, epa = 0.7764\n",
      "Iteration #10: xr =1.619355, epa = 0.2947\n",
      "Iteration #11: xr =1.617530, epa = 0.1128\n",
      "Iteration #12: xr =1.618227, epa = 0.0431\n",
      "Iteration #13: xr =1.617960, epa = 0.0165\n",
      "Iteration #14: xr =1.618062, epa = 0.0063\n",
      "Iteration #15: xr =1.618023, epa = 0.0024\n",
      "Iteration #16: xr =1.618038, epa = 0.0009\n",
      "Iteration #17: xr =1.618032, epa = 0.0004\n"
     ]
    }
   ],
   "source": [
    "#initialize x0\n",
    "x0 = -0.9\n",
    "xr = fixed_point(x0)"
   ]
  },
  {
   "cell_type": "code",
   "execution_count": 14,
   "metadata": {},
   "outputs": [],
   "source": [
    "def fixed_point(x0):\n",
    "    xr_prev = x0 \n",
    "    epa = 100\n",
    "    sf =5 # 5 significant number\n",
    "    eps = 0.5 *(10**(2-sf))\n",
    "    i=0\n",
    "    while (epa>eps): ##stoping criteria\n",
    "        i = i+1\n",
    "        xr =(1/xr_prev-1)\n",
    "        # xr =xr_prev - (f(xr_prev)/df(xr_prev)) ##f / first derivative\n",
    "        epa = abs(100*((xr-xr_prev)/xr))\n",
    "        xr_prev = xr ##save the \n",
    "        print(\"Iteration #%2d: xr =%4.6f, epa = %4.4f\" %(i,xr,epa)) \n",
    "    #end while\n",
    "#end functions"
   ]
  },
  {
   "cell_type": "code",
   "execution_count": 15,
   "metadata": {},
   "outputs": [
    {
     "name": "stdout",
     "output_type": "stream",
     "text": [
      "Iteration # 1: xr =-2.111111, epa = 57.3684\n",
      "Iteration # 2: xr =-1.473684, epa = 43.2540\n",
      "Iteration # 3: xr =-1.678571, epa = 12.2060\n",
      "Iteration # 4: xr =-1.595745, epa = 5.1905\n",
      "Iteration # 5: xr =-1.626667, epa = 1.9009\n",
      "Iteration # 6: xr =-1.614754, epa = 0.7377\n",
      "Iteration # 7: xr =-1.619289, epa = 0.2801\n",
      "Iteration # 8: xr =-1.617555, epa = 0.1072\n",
      "Iteration # 9: xr =-1.618217, epa = 0.0409\n",
      "Iteration #10: xr =-1.617964, epa = 0.0156\n",
      "Iteration #11: xr =-1.618061, epa = 0.0060\n",
      "Iteration #12: xr =-1.618024, epa = 0.0023\n",
      "Iteration #13: xr =-1.618038, epa = 0.0009\n",
      "Iteration #14: xr =-1.618033, epa = 0.0003\n"
     ]
    }
   ],
   "source": [
    "#initialize x0\n",
    "x0 = -0.9\n",
    "xr = fixed_point(x0)"
   ]
  },
  {
   "cell_type": "markdown",
   "metadata": {},
   "source": [
    "The answer depend on the relationship between xr and it previous"
   ]
  },
  {
   "cell_type": "code",
   "execution_count": null,
   "metadata": {},
   "outputs": [],
   "source": []
  }
 ],
 "metadata": {
  "kernelspec": {
   "display_name": "Python 3 (ipykernel)",
   "language": "python",
   "name": "python3"
  },
  "language_info": {
   "codemirror_mode": {
    "name": "ipython",
    "version": 3
   },
   "file_extension": ".py",
   "mimetype": "text/x-python",
   "name": "python",
   "nbconvert_exporter": "python",
   "pygments_lexer": "ipython3",
   "version": "3.11.6"
  }
 },
 "nbformat": 4,
 "nbformat_minor": 2
}
