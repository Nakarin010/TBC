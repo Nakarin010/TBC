{
 "cells": [
  {
   "cell_type": "code",
   "execution_count": 51,
   "metadata": {},
   "outputs": [],
   "source": [
    "# Solving an equation with a single variable\n",
    "# Using Interval Search\n",
    "\n",
    "# Example: f(x) = x^3 - 6x^2 + 4x + 12\n",
    "# using Wolfram Alpha: the solutions are at x = -1.05137, 2.5173, 4.5341"
   ]
  },
  {
   "cell_type": "code",
   "execution_count": 1,
   "metadata": {},
   "outputs": [],
   "source": [
    "import math\n",
    "import numpy as np\n",
    "import matplotlib.pyplot as plt"
   ]
  },
  {
   "cell_type": "code",
   "execution_count": 2,
   "metadata": {},
   "outputs": [],
   "source": [
    "def f(x):\n",
    "    return (x**3) - (6*(x**2)) + (4*x) + 12 ## not optimized yet"
   ]
  },
  {
   "cell_type": "code",
   "execution_count": 54,
   "metadata": {},
   "outputs": [
    {
     "data": {
      "text/plain": [
       "<matplotlib.lines.Line2D at 0x174b8eabd50>"
      ]
     },
     "execution_count": 54,
     "metadata": {},
     "output_type": "execute_result"
    },
    {
     "data": {
      "image/png": "[encoded data removed]",
      "text/plain": [
       "<Figure size 640x480 with 1 Axes>"
      ]
     },
     "metadata": {},
     "output_type": "display_data"
    }
   ],
   "source": [
    "# plot the functions to visualize it\n",
    "\n",
    "x = np.arange(-2,6,0.1)\n",
    "y = f(x)\n",
    "\n",
    "plt.plot(x,y)\n",
    "plt.axhline(y=0, color='k')\n",
    "plt.axvline(x=0, color='k')"
   ]
  },
  {
   "cell_type": "code",
   "execution_count": 55,
   "metadata": {},
   "outputs": [
    {
     "name": "stdout",
     "output_type": "stream",
     "text": [
      "[-2.  0.  2.  4.  6.]\n"
     ]
    }
   ],
   "source": [
    "# first step: split the boundary into 4 intervals (segments)\n",
    "\n",
    "\n",
    "## for the sake of teaching \n",
    "no_intervals = 4   # number of intervals that we want to split\n",
    "L = -2\n",
    "U = 6\n",
    "k = np.linspace(L, U, 5) ##point L to U  5 sub intervals\n",
    "print(k)\n",
    "\n",
    "# so now we have 4 intervals : [-2, 0], [0, 2], [2, 4], [4, 6]"
   ]
  },
  {
   "cell_type": "code",
   "execution_count": 56,
   "metadata": {},
   "outputs": [
    {
     "name": "stdout",
     "output_type": "stream",
     "text": [
      "Interval 0: [-2.00, 0.00]\n",
      "   found a root at -1.0000\n",
      "Interval 1: [0.00, 2.00]\n",
      "Interval 2: [2.00, 4.00]\n",
      "   found a root at 3.0000\n",
      "Interval 3: [4.00, 6.00]\n",
      "   found a root at 5.0000\n",
      "Intervals found:\n",
      "[[-2.  0.]\n",
      " [ 2.  4.]\n",
      " [ 4.  6.]]\n"
     ]
    }
   ],
   "source": [
    "# for each interval, determine whether there is a root (solution of the equation)\n",
    "# inside the interval or not.  If there is, we guess that the root is at the center\n",
    "# of the interval\n",
    "\n",
    "output_intervals = np.empty((0, 2), float)\n",
    "\n",
    "# test\n",
    "# for i in np.arange(0,k.size - 1):\n",
    "for i in range(k.size - 1): ## from k =0 to 3\n",
    "    print('Interval %d: [%2.2f, %2.2f]' %(i,k[i],k[i+1]))\n",
    "    # determine whether the interval has a root\n",
    "    # if f(left_interval_boundary) and f(right_interval_boundary) have different sign\n",
    "    # then there is a root inside the interval\n",
    "    if (f(k[i]) * f(k[i+1]) < 0): ##f(x(L)) or f(x(U)) have the same sign or not less than 0 mean there is a root inside the interval\n",
    "        # Estimate that there is a root at the midpoint between the left boundary \n",
    "        # and the right boundary of the interval\n",
    "        r = (k[i] + k[i+1])/2 ##left boundary + right boundary /2\n",
    "        print('   found a root at %3.4f' %(r))\n",
    "        # store this interval into our memory\n",
    "        output_intervals = np.append(output_intervals, np.array([[k[i],k[i+1]]]), axis=0) ##append 2 dimension array\n",
    "    #end if\n",
    "#end for\n",
    "print('Intervals found:')\n",
    "print(output_intervals)"
   ]
  },
  {
   "cell_type": "code",
   "execution_count": 57,
   "metadata": {},
   "outputs": [
    {
     "name": "stdout",
     "output_type": "stream",
     "text": [
      "\n",
      "Working on interval 0 : [-2.0000, 0.0000]\n",
      "   Interval 0: [-2.00, -1.50]\n",
      "   Interval 1: [-1.50, -1.00]\n",
      "      found a root at -1.2500\n",
      "   Interval 2: [-1.00, -0.50]\n",
      "   Interval 3: [-0.50, 0.00]\n",
      "\n",
      "Interval found: \n",
      "[[-1.5 -1. ]]\n",
      "\n",
      "Working on interval 1 : [2.0000, 4.0000]\n",
      "   Interval 0: [2.00, 2.50]\n",
      "   Interval 1: [2.50, 3.00]\n",
      "      found a root at 2.7500\n",
      "   Interval 2: [3.00, 3.50]\n",
      "   Interval 3: [3.50, 4.00]\n",
      "\n",
      "Interval found: \n",
      "[[2.5 3. ]]\n",
      "\n",
      "Working on interval 2 : [4.0000, 6.0000]\n",
      "   Interval 0: [4.00, 4.50]\n",
      "   Interval 1: [4.50, 5.00]\n",
      "      found a root at 4.7500\n",
      "   Interval 2: [5.00, 5.50]\n",
      "   Interval 3: [5.50, 6.00]\n",
      "\n",
      "Interval found: \n",
      "[[4.5 5. ]]\n"
     ]
    }
   ],
   "source": [
    "# now we have 3 intervals that contains the roots.\n",
    "# \n",
    "\n",
    "(no_intervals, cols) = output_intervals.shape\n",
    "\n",
    "# for each interval found, find the root inside the interval\n",
    "\n",
    "for i in range(no_intervals):\n",
    "    #split it even further \n",
    "    (L,U) = output_intervals[i]\n",
    "    print('')\n",
    "    print('Working on interval %d : [%3.4f, %3.4f]' %(i,L,U))\n",
    "    k = np.linspace(L, U, 5)\n",
    "\n",
    "    sub_output_intervals = np.empty((0, 2), float)\n",
    "    \n",
    "    for i in np.arange(0,k.size - 1):\n",
    "        print('   Interval %d: [%2.2f, %2.2f]' %(i,k[i],k[i+1]))\n",
    "        # determine whether the interval has a root\n",
    "        # if f(left_interval_boundary) and f(right_interval_boundary) have different sign\n",
    "        # then there is a root inside the interval\n",
    "        if (f(k[i]) * f(k[i+1]) < 0):\n",
    "            # Estimate that there is a root at the midpoint between the left boundary \n",
    "            # and the right boundary of the interval\n",
    "            r = (k[i] + k[i+1])/2\n",
    "            print('      found a root at %3.4f' %(r))\n",
    "            # store this interval into our memory\n",
    "            sub_output_intervals = np.append(sub_output_intervals, np.array([[k[i],k[i+1]]]), axis=0)\n",
    "        #end if\n",
    "    #end for\n",
    "    print('')\n",
    "    print('Interval found: ')\n",
    "    print(sub_output_intervals)\n",
    "#end for"
   ]
  },
  {
   "cell_type": "code",
   "execution_count": 58,
   "metadata": {},
   "outputs": [],
   "source": [
    "# bisection method\n",
    "\n",
    "# using the same function f(x) = x^3 - 6x^2 + 4x + 12\n",
    "# use bisection method to solve for a solution of f(x) = 0"
   ]
  },
  {
   "cell_type": "code",
   "execution_count": 61,
   "metadata": {},
   "outputs": [],
   "source": [
    "# define the bisection function\n",
    "\n",
    "def my_bisection(f,xl,xu):\n",
    "    stop_criterion = 0.005\n",
    "    max_iteration = 20\n",
    "\n",
    "    for i in range(0,max_iteration):\n",
    "        xr = (xl + xu)/2\n",
    "        prev_xr = xr\n",
    "        # check the left interval\n",
    "        print('iteration %d: search in [%3.4f, %3.4f]' %(i, xl, xu))\n",
    "        if (f(xl) * f(xr) < 0): ##less than 0 mean there is a root inside the interval left sub region\n",
    "            # there is a root in the left sub-interval\n",
    "            # remove the right sub-interval\n",
    "            xu = xr\n",
    "        else:  # there is a root in the right sub-interval right hand side\n",
    "            xl = xr\n",
    "        # end if\n",
    "        new_xr = (xl + xu)/2\n",
    "        approx_error = 100 * np.abs((new_xr - prev_xr)/new_xr)\n",
    "        if (approx_error < stop_criterion):\n",
    "            break\n",
    "        #end if\n",
    "        print('   new search region is [%3.4f, %3.4f], estimated root = [%3.4f], approx_error = %3.4f' %(xl, xu, new_xr, approx_error))\n",
    "    #end for\n",
    "    return new_xr\n",
    "#end function "
   ]
  },
  {
   "cell_type": "code",
   "execution_count": 62,
   "metadata": {},
   "outputs": [
    {
     "name": "stdout",
     "output_type": "stream",
     "text": [
      "iteration 0: search in [4.0000, 5.0000]\n",
      "   new search region is [4.5000, 5.0000], estimated root = [4.7500], approx_error = 5.2632\n",
      "iteration 1: search in [4.5000, 5.0000]\n",
      "   new search region is [4.5000, 4.7500], estimated root = [4.6250], approx_error = 2.7027\n",
      "iteration 2: search in [4.5000, 4.7500]\n",
      "   new search region is [4.5000, 4.6250], estimated root = [4.5625], approx_error = 1.3699\n",
      "iteration 3: search in [4.5000, 4.6250]\n",
      "   new search region is [4.5000, 4.5625], estimated root = [4.5312], approx_error = 0.6897\n",
      "iteration 4: search in [4.5000, 4.5625]\n",
      "   new search region is [4.5312, 4.5625], estimated root = [4.5469], approx_error = 0.3436\n",
      "iteration 5: search in [4.5312, 4.5625]\n",
      "   new search region is [4.5312, 4.5469], estimated root = [4.5391], approx_error = 0.1721\n",
      "iteration 6: search in [4.5312, 4.5469]\n",
      "   new search region is [4.5312, 4.5391], estimated root = [4.5352], approx_error = 0.0861\n",
      "iteration 7: search in [4.5312, 4.5391]\n",
      "   new search region is [4.5312, 4.5352], estimated root = [4.5332], approx_error = 0.0431\n",
      "iteration 8: search in [4.5312, 4.5352]\n",
      "   new search region is [4.5332, 4.5352], estimated root = [4.5342], approx_error = 0.0215\n",
      "iteration 9: search in [4.5332, 4.5352]\n",
      "   new search region is [4.5332, 4.5342], estimated root = [4.5337], approx_error = 0.0108\n",
      "iteration 10: search in [4.5332, 4.5342]\n",
      "   new search region is [4.5337, 4.5342], estimated root = [4.5339], approx_error = 0.0054\n",
      "iteration 11: search in [4.5337, 4.5342]\n",
      "4.5340576171875\n"
     ]
    }
   ],
   "source": [
    "print(my_bisection(f,4,5))\n",
    "\n",
    "##normal interval search k * interval will get total iteration"
   ]
  }
 ],
 "metadata": {
  "kernelspec": {
   "display_name": "Python 3 (ipykernel)",
   "language": "python",
   "name": "python3"
  },
  "orig_nbformat": 4
 },
 "nbformat": 4,
 "nbformat_minor": 2
}
