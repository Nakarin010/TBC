{
 "cells": [
  {
   "cell_type": "code",
   "execution_count": 2,
   "metadata": {},
   "outputs": [],
   "source": [
    "import re\n",
    "import numpy as np\n",
    "import sympy "
   ]
  },
  {
   "cell_type": "markdown",
   "metadata": {},
   "source": [
    "1. Given the following set of (x,y) coordinates as relations, write a program that determine whether each relation is a function or not.  {(-3,-1),(-2,1),(0,2),(-3,3),(4,-5),(1,1)} and {(-2,1),(3,1),(1,4),(-2,3),(0,-3)}"
   ]
  },
  {
   "cell_type": "code",
   "execution_count": 42,
   "metadata": {},
   "outputs": [
    {
     "name": "stdout",
     "output_type": "stream",
     "text": [
      "<re.Match object; span=(1, 7), match='(-3,1)'>\n",
      "['(-3,1)', '(-2,1)', '(0,2)', '(-3,3)', '(4,-5)', '(1,1)']\n",
      "['(-2,1)', '(3,1)', '(1,4)', '(-2,3)', '(0,-3)']\n",
      "(-2,1)\n",
      "(3,1)\n",
      "(1,4)\n",
      "(-2,3)\n",
      "(0,-3)\n",
      "\n",
      "\n",
      "it is relation\n",
      "{(-3,1),(-2,1),(0,2),(-3,3),(4,-5),(1,1)} function or not: False\n",
      "\n",
      "\n",
      "it is relation\n",
      "{(-2,1),(3,1),(1,4),(-2,3),(0,-3)} function or not: False\n"
     ]
    }
   ],
   "source": [
    "##if x values are distinct -  it is a function.\n",
    "##If any x values are repeated, and y are different, it is relation.\n",
    "\n",
    "\n",
    "##both of given set are relation not function\n",
    "\n",
    "\n",
    "set_1 = \"{(-3,1),(-2,1),(0,2),(-3,3),(4,-5),(1,1)}\"\n",
    "set_2 = \"{(-2,1),(3,1),(1,4),(-2,3),(0,-3)}\"\n",
    "\n",
    "\n",
    "t = re.search(r\"(\\(-?\\d,+?-?\\d+\\))\",set_1)\n",
    "print(t)\n",
    "\n",
    "\n",
    "\n",
    "##findall \n",
    "## will return in list containing all matched items\n",
    "tt = re.findall(r\"(\\(-?\\d,+?-?\\d+\\))\",set_1)\n",
    "print(tt)\n",
    "ttt = re.findall(r\"(\\(-?\\d,+?-?\\d+\\))\",set_2)\n",
    "# (\\(-?\\d,+?-?\\d+\\))\n",
    "print(ttt)\n",
    "\n",
    "\n",
    "for i in ttt:\n",
    "    print(i)\n",
    "\n",
    "\n",
    "x_val =[]\n",
    "##seperate x and y value from the set that we already use regex to match the pattern \n",
    "for item in ttt:\n",
    "    findit = re.match(r\"\\((-?\\d+),(-?\\d+)\\)\",item)\n",
    "    if findit:\n",
    "        xx = findit.group(1)\n",
    "        yy = findit.group(2)\n",
    "        x_val.append(xx)\n",
    "    \n",
    "print('\\n')\n",
    "is_function = True\n",
    "for i in x_val:\n",
    "    if x_val.count(i) > 1:\n",
    "        print(\"it is relation\")\n",
    "        is_function = False\n",
    "        break\n",
    "print(f'{set_1} function or not: {is_function}')\n",
    "\n",
    "print('\\n')\n",
    "##begin set2\n",
    "x_val2 =[]\n",
    "for item in tt:\n",
    "    findit = re.match(r\"\\((-?\\d+),(-?\\d+)\\)\",item)\n",
    "    if findit:\n",
    "        xx = findit.group(1)\n",
    "        yy = findit.group(2)\n",
    "        x_val2.append(xx)\n",
    "for i in x_val2:\n",
    "    if x_val2.count(i) > 1:\n",
    "        print(\"it is relation\")\n",
    "        is_function = False\n",
    "        break\n",
    "print(f'{set_2} function or not: {is_function}')\n",
    "\n",
    "\n",
    "\n",
    "\n",
    "\n",
    "\n",
    "\n",
    "\n",
    "\n"
   ]
  },
  {
   "cell_type": "code",
   "execution_count": 6,
   "metadata": {},
   "outputs": [
    {
     "name": "stdout",
     "output_type": "stream",
     "text": [
      "The first white-space character is located in position: 3\n"
     ]
    }
   ],
   "source": [
    "txt = \"The rain in Spain\"\n",
    "x = re.search(\"\\s\", txt)\n",
    "\n",
    "print(\"The first white-space character is located in position:\", x.start()) \n"
   ]
  },
  {
   "cell_type": "markdown",
   "metadata": {},
   "source": [
    "2. Using the Taylor Series approximation implementation for e^x demonstrated in class, write a program to speed up the calculation of the infinite sum x^n/n! using the poly recursion discussed in Unit 1 of the lecture 9"
   ]
  },
  {
   "cell_type": "code",
   "execution_count": null,
   "metadata": {},
   "outputs": [],
   "source": []
  },
  {
   "cell_type": "markdown",
   "metadata": {},
   "source": [
    "3. Write a program using the Taylor Series expansion and the trick demonstrated in class to approximate the values of ln(30), ln(50), ln(100) and ln(200) without manual intervention."
   ]
  },
  {
   "cell_type": "code",
   "execution_count": null,
   "metadata": {},
   "outputs": [],
   "source": []
  }
 ],
 "metadata": {
  "kernelspec": {
   "display_name": "Python 3 (ipykernel)",
   "language": "python",
   "name": "python3"
  },
  "language_info": {
   "codemirror_mode": {
    "name": "ipython",
    "version": 3
   },
   "file_extension": ".py",
   "mimetype": "text/x-python",
   "name": "python",
   "nbconvert_exporter": "python",
   "pygments_lexer": "ipython3",
   "version": "3.9.10"
  }
 },
 "nbformat": 4,
 "nbformat_minor": 2
}
